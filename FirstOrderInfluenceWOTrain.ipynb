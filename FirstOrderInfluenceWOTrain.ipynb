{
 "cells": [
  {
   "cell_type": "code",
   "execution_count": 31,
   "metadata": {},
   "outputs": [],
   "source": [
    "import pandas as pd \n",
    "from sklearn.model_selection import train_test_split\n",
    "from sklearn.linear_model import LogisticRegression\n",
    "from sklearn.neighbors import KNeighborsClassifier\n",
    "from sklearn.metrics import accuracy_score, classification_report\n",
    "from sklearn.preprocessing import LabelEncoder\n",
    "import numpy as np\n",
    "from hessians_calc import *\n",
    "from demo_parity_calc import *\n",
    "import copy\n"
   ]
  },
  {
   "cell_type": "code",
   "execution_count": 32,
   "metadata": {},
   "outputs": [],
   "source": [
    "cols = ['status', 'duration', 'credit_hist', 'purpose', 'credit_amt', 'savings', 'employment', 'installment_rate', 'personal_status', 'debtors', 'residencesince', 'property', 'age', 'install_plans', 'housing', 'existing_credits', 'job', 'maintenance_paying_people', 'telephone', 'foreign_worker', 'result']\n",
    "url = 'https://archive.ics.uci.edu/ml/machine-learning-databases/statlog/german/german.data'\n",
    "df = pd.read_csv(url, delimiter=' ', names=cols, index_col=False)\n",
    "df['result'] = df['result'].replace(2,0)"
   ]
  },
  {
   "cell_type": "code",
   "execution_count": 33,
   "metadata": {},
   "outputs": [
    {
     "data": {
      "text/html": [
       "<div>\n",
       "<style scoped>\n",
       "    .dataframe tbody tr th:only-of-type {\n",
       "        vertical-align: middle;\n",
       "    }\n",
       "\n",
       "    .dataframe tbody tr th {\n",
       "        vertical-align: top;\n",
       "    }\n",
       "\n",
       "    .dataframe thead th {\n",
       "        text-align: right;\n",
       "    }\n",
       "</style>\n",
       "<table border=\"1\" class=\"dataframe\">\n",
       "  <thead>\n",
       "    <tr style=\"text-align: right;\">\n",
       "      <th></th>\n",
       "      <th>status</th>\n",
       "      <th>duration</th>\n",
       "      <th>credit_hist</th>\n",
       "      <th>purpose</th>\n",
       "      <th>credit_amt</th>\n",
       "      <th>savings</th>\n",
       "      <th>employment</th>\n",
       "      <th>installment_rate</th>\n",
       "      <th>personal_status</th>\n",
       "      <th>debtors</th>\n",
       "      <th>...</th>\n",
       "      <th>property</th>\n",
       "      <th>age</th>\n",
       "      <th>install_plans</th>\n",
       "      <th>housing</th>\n",
       "      <th>existing_credits</th>\n",
       "      <th>job</th>\n",
       "      <th>maintenance_paying_people</th>\n",
       "      <th>telephone</th>\n",
       "      <th>foreign_worker</th>\n",
       "      <th>result</th>\n",
       "    </tr>\n",
       "  </thead>\n",
       "  <tbody>\n",
       "    <tr>\n",
       "      <th>0</th>\n",
       "      <td>A11</td>\n",
       "      <td>6</td>\n",
       "      <td>A34</td>\n",
       "      <td>A43</td>\n",
       "      <td>1169</td>\n",
       "      <td>A65</td>\n",
       "      <td>A75</td>\n",
       "      <td>4</td>\n",
       "      <td>A93</td>\n",
       "      <td>A101</td>\n",
       "      <td>...</td>\n",
       "      <td>A121</td>\n",
       "      <td>67</td>\n",
       "      <td>A143</td>\n",
       "      <td>A152</td>\n",
       "      <td>2</td>\n",
       "      <td>A173</td>\n",
       "      <td>1</td>\n",
       "      <td>A192</td>\n",
       "      <td>A201</td>\n",
       "      <td>1</td>\n",
       "    </tr>\n",
       "    <tr>\n",
       "      <th>1</th>\n",
       "      <td>A12</td>\n",
       "      <td>48</td>\n",
       "      <td>A32</td>\n",
       "      <td>A43</td>\n",
       "      <td>5951</td>\n",
       "      <td>A61</td>\n",
       "      <td>A73</td>\n",
       "      <td>2</td>\n",
       "      <td>A92</td>\n",
       "      <td>A101</td>\n",
       "      <td>...</td>\n",
       "      <td>A121</td>\n",
       "      <td>22</td>\n",
       "      <td>A143</td>\n",
       "      <td>A152</td>\n",
       "      <td>1</td>\n",
       "      <td>A173</td>\n",
       "      <td>1</td>\n",
       "      <td>A191</td>\n",
       "      <td>A201</td>\n",
       "      <td>0</td>\n",
       "    </tr>\n",
       "    <tr>\n",
       "      <th>2</th>\n",
       "      <td>A14</td>\n",
       "      <td>12</td>\n",
       "      <td>A34</td>\n",
       "      <td>A46</td>\n",
       "      <td>2096</td>\n",
       "      <td>A61</td>\n",
       "      <td>A74</td>\n",
       "      <td>2</td>\n",
       "      <td>A93</td>\n",
       "      <td>A101</td>\n",
       "      <td>...</td>\n",
       "      <td>A121</td>\n",
       "      <td>49</td>\n",
       "      <td>A143</td>\n",
       "      <td>A152</td>\n",
       "      <td>1</td>\n",
       "      <td>A172</td>\n",
       "      <td>2</td>\n",
       "      <td>A191</td>\n",
       "      <td>A201</td>\n",
       "      <td>1</td>\n",
       "    </tr>\n",
       "    <tr>\n",
       "      <th>3</th>\n",
       "      <td>A11</td>\n",
       "      <td>42</td>\n",
       "      <td>A32</td>\n",
       "      <td>A42</td>\n",
       "      <td>7882</td>\n",
       "      <td>A61</td>\n",
       "      <td>A74</td>\n",
       "      <td>2</td>\n",
       "      <td>A93</td>\n",
       "      <td>A103</td>\n",
       "      <td>...</td>\n",
       "      <td>A122</td>\n",
       "      <td>45</td>\n",
       "      <td>A143</td>\n",
       "      <td>A153</td>\n",
       "      <td>1</td>\n",
       "      <td>A173</td>\n",
       "      <td>2</td>\n",
       "      <td>A191</td>\n",
       "      <td>A201</td>\n",
       "      <td>1</td>\n",
       "    </tr>\n",
       "    <tr>\n",
       "      <th>4</th>\n",
       "      <td>A11</td>\n",
       "      <td>24</td>\n",
       "      <td>A33</td>\n",
       "      <td>A40</td>\n",
       "      <td>4870</td>\n",
       "      <td>A61</td>\n",
       "      <td>A73</td>\n",
       "      <td>3</td>\n",
       "      <td>A93</td>\n",
       "      <td>A101</td>\n",
       "      <td>...</td>\n",
       "      <td>A124</td>\n",
       "      <td>53</td>\n",
       "      <td>A143</td>\n",
       "      <td>A153</td>\n",
       "      <td>2</td>\n",
       "      <td>A173</td>\n",
       "      <td>2</td>\n",
       "      <td>A191</td>\n",
       "      <td>A201</td>\n",
       "      <td>0</td>\n",
       "    </tr>\n",
       "  </tbody>\n",
       "</table>\n",
       "<p>5 rows × 21 columns</p>\n",
       "</div>"
      ],
      "text/plain": [
       "  status  duration credit_hist purpose  credit_amt savings employment  \\\n",
       "0    A11         6         A34     A43        1169     A65        A75   \n",
       "1    A12        48         A32     A43        5951     A61        A73   \n",
       "2    A14        12         A34     A46        2096     A61        A74   \n",
       "3    A11        42         A32     A42        7882     A61        A74   \n",
       "4    A11        24         A33     A40        4870     A61        A73   \n",
       "\n",
       "   installment_rate personal_status debtors  ...  property age  install_plans  \\\n",
       "0                 4             A93    A101  ...      A121  67           A143   \n",
       "1                 2             A92    A101  ...      A121  22           A143   \n",
       "2                 2             A93    A101  ...      A121  49           A143   \n",
       "3                 2             A93    A103  ...      A122  45           A143   \n",
       "4                 3             A93    A101  ...      A124  53           A143   \n",
       "\n",
       "  housing existing_credits   job maintenance_paying_people  telephone  \\\n",
       "0    A152                2  A173                         1       A192   \n",
       "1    A152                1  A173                         1       A191   \n",
       "2    A152                1  A172                         2       A191   \n",
       "3    A153                1  A173                         2       A191   \n",
       "4    A153                2  A173                         2       A191   \n",
       "\n",
       "  foreign_worker result  \n",
       "0           A201      1  \n",
       "1           A201      0  \n",
       "2           A201      1  \n",
       "3           A201      1  \n",
       "4           A201      0  \n",
       "\n",
       "[5 rows x 21 columns]"
      ]
     },
     "execution_count": 33,
     "metadata": {},
     "output_type": "execute_result"
    }
   ],
   "source": [
    "df.head()"
   ]
  },
  {
   "cell_type": "code",
   "execution_count": 34,
   "metadata": {},
   "outputs": [],
   "source": [
    "def preprocess_german(df):\n",
    "    df['status'] = df['status'].map({'A11': 0, 'A12': 1, 'A13': 2, 'A14': 3}).astype(int)\n",
    "    df['credit_hist'] = df['credit_hist'].map({'A34': 0, 'A33': 1, 'A32': 2, 'A31': 3, 'A30': 4}).astype(int)\n",
    "    df.loc[(df['credit_amt'] <= 2000), 'credit_amt'] = 0\n",
    "    df.loc[(df['credit_amt'] > 2000) & (df['credit_amt'] <= 5000), 'credit_amt'] = 1\n",
    "    df.loc[(df['credit_amt'] > 5000), 'credit_amt'] = 2\n",
    "    df.loc[(df['duration'] <= 12), 'duration'] = 0\n",
    "    df.loc[(df['duration'] > 12) & (df['duration'] <= 24), 'duration'] = 1\n",
    "    df.loc[(df['duration'] > 24) & (df['duration'] <= 36), 'duration'] = 2\n",
    "    df.loc[(df['duration'] > 36), 'duration'] = 3\n",
    "    df['age'] = df['age'].apply(lambda x : 1 if x >= 45 else 0) # 1 if old, 0 if young\n",
    "    df['savings'] = df['savings'].map({'A61': 0, 'A62': 1, 'A63': 2, 'A64': 3, 'A65': 4}).astype(int)\n",
    "    df['employment'] = df['employment'].map({'A71': 0, 'A72': 1, 'A73': 2, 'A74': 3, 'A75': 4}).astype(int)\n",
    "    df['gender'] = df['personal_status'].map({'A91': 1, 'A92': 0, 'A93': 1, 'A94': 1, 'A95': 0}).astype(int)\n",
    "    df['debtors'] = df['debtors'].map({'A101': 0, 'A102': 1, 'A103': 2}).astype(int)\n",
    "    df['property'] = df['property'].map({'A121': 3, 'A122': 2, 'A123': 1, 'A124': 0}).astype(int)\n",
    "    df['install_plans'] = df['install_plans'].map({'A141': 1, 'A142': 1, 'A143': 0}).astype(int)\n",
    "    df['job'] = df['job'].map({'A171': 0, 'A172': 1, 'A173': 2, 'A174': 3}).astype(int)\n",
    "    df['telephone'] = df['telephone'].map({'A191': 0, 'A192': 1}).astype(int)\n",
    "    df['foreign_worker'] = df['foreign_worker'].map({'A201': 1, 'A202': 0}).astype(int)\n",
    "    pd.get_dummies(df, columns=['purpose', 'housing'], drop_first=True)\n",
    "\n",
    "    return df"
   ]
  },
  {
   "cell_type": "code",
   "execution_count": 35,
   "metadata": {},
   "outputs": [],
   "source": [
    "df = preprocess_german(df)"
   ]
  },
  {
   "cell_type": "code",
   "execution_count": 36,
   "metadata": {},
   "outputs": [],
   "source": [
    "df = df.drop([\"purpose\", \"housing\", \"personal_status\"], axis=1)\n",
    "x = df[['status', 'duration', 'credit_hist', 'credit_amt', 'savings',\n",
    "       'employment', 'installment_rate', 'debtors', 'residencesince',\n",
    "       'property', 'age', 'install_plans', 'existing_credits', 'job',\n",
    "       'maintenance_paying_people', 'telephone', 'foreign_worker',\n",
    "       'gender']]\n",
    "\n",
    "y = df['result']"
   ]
  },
  {
   "cell_type": "code",
   "execution_count": 37,
   "metadata": {},
   "outputs": [
    {
     "data": {
      "text/plain": [
       "1000"
      ]
     },
     "execution_count": 37,
     "metadata": {},
     "output_type": "execute_result"
    }
   ],
   "source": [
    "len(y)"
   ]
  },
  {
   "cell_type": "code",
   "execution_count": 38,
   "metadata": {},
   "outputs": [],
   "source": [
    "x_train, x_test, y_train, y_test = train_test_split(x, y, test_size=0.20, random_state=15)\n",
    "x_train = x_train.reset_index(drop=True)\n",
    "x_test = x_test.reset_index(drop=True)\n",
    "y_train = y_train.reset_index(drop=True)\n",
    "y_test = y_test.reset_index(drop=True)"
   ]
  },
  {
   "cell_type": "code",
   "execution_count": 39,
   "metadata": {},
   "outputs": [
    {
     "name": "stdout",
     "output_type": "stream",
     "text": [
      "<class 'numpy.ndarray'>\n",
      "<class 'pandas.core.frame.DataFrame'>\n"
     ]
    }
   ],
   "source": [
    "x_test_orig = copy.deepcopy(x_test)\n",
    "from sklearn.preprocessing import StandardScaler\n",
    "sc = StandardScaler()\n",
    "x_train = sc.fit_transform(x_train)\n",
    "x_test_scalar = sc.fit_transform(x_test)\n",
    "print(type(x_test_scalar))\n",
    "print(type(x_test))"
   ]
  },
  {
   "cell_type": "code",
   "execution_count": 40,
   "metadata": {},
   "outputs": [],
   "source": [
    "#calculate the influence of each train data point by retraining\n"
   ]
  },
  {
   "cell_type": "code",
   "execution_count": 41,
   "metadata": {},
   "outputs": [],
   "source": [
    "#SCIKIT LEARN LR\n",
    "\n",
    "# def demographic_parity(x_train, y_train, x_test, y_test):\n",
    "#     # find the predictive probabilities for the protected and privileged groups based on 'age'\n",
    " \n",
    "#     logistic_model = LogisticRegression(max_iter=1000)\n",
    "#     logistic_model.fit(x_train, y_train.values.ravel())\n",
    "\n",
    "#     x_test = x_test.reset_index(drop=True)\n",
    "#     y_pred_proba = logistic_model.predict_proba(x_test)\n",
    "\n",
    "#     privileged_gp_indices = x_test[x_test['age']==1].index\n",
    "#     protected_gp_indices = x_test[x_test['age']==0].index\n",
    "\n",
    "#     privileged_positive_pred = y_pred_proba[privileged_gp_indices, 1][y_pred_proba[privileged_gp_indices, 1] > 0.5].mean()\n",
    "#     protected_positive_pred = y_pred_proba[protected_gp_indices, 1][y_pred_proba[protected_gp_indices, 1] > 0.5].mean()\n",
    "\n",
    "#     return  privileged_positive_pred - protected_positive_pred\n"
   ]
  },
  {
   "cell_type": "code",
   "execution_count": 42,
   "metadata": {},
   "outputs": [],
   "source": [
    "def demographic_parity(x_train_temp, y_train_temp, x_test_temp):\n",
    "    # find the predictive probabilities for the protected and privileged groups based on 'age'\n",
    "    sc = StandardScaler()\n",
    "    x_test_scalar_temp = sc.fit_transform(x_test_temp)\n",
    "    logistic_model = LogisticRegression(input_size=x_train_temp.shape[1], epoch_num=1000)\n",
    "    logistic_model.fit(x_train_temp, y_train_temp)\n",
    "\n",
    "    y_pred_proba_temp = logistic_model.predict_proba(x_test_scalar_temp)\n",
    "    print(y_pred_proba_temp.shape)\n",
    "    print(y_pred_proba_temp)\n",
    "\n",
    "    privileged_gp_indices = x_test_temp[x_test_temp['age'] == 1].index\n",
    "    protected_gp_indices = x_test_temp[x_test_temp['age'] == 0].index\n",
    "    # y_pred_proba returns an array, how do we know whether that is for the positive label or negative label.\n",
    "    # assuming it gives us the probability of the positive class\n",
    "\n",
    "    for x in range(len(privileged_gp_indices)):\n",
    "        sum_pri = 0\n",
    "        count_pri = 0\n",
    "        # if y_pred_proba_temp[x] > 0.5:\n",
    "        sum_pri += y_pred_proba_temp[x]\n",
    "        count_pri += 1\n",
    "    privileged_positive_pred = sum_pri/count_pri\n",
    "\n",
    "    for x in range(len(protected_gp_indices)):\n",
    "        sum_pro = 0\n",
    "        count_pro = 0\n",
    "        # if y_pred_proba_temp[x] > 0.5:\n",
    "        sum_pro += y_pred_proba_temp[x]\n",
    "        count_pro += 1\n",
    "    protected_positive_pred = sum_pro/count_pro\n",
    "\n",
    "    # privileged_positive_pred = y_pred_proba[privileged_gp_indices, 1][y_pred_proba[privileged_gp_indices, 1] > 0.5].mean()\n",
    "    # protected_positive_pred = y_pred_proba[protected_gp_indices, 1][y_pred_proba[protected_gp_indices, 1] > 0.5].mean()\n",
    "\n",
    "    return privileged_positive_pred - protected_positive_pred"
   ]
  },
  {
   "cell_type": "code",
   "execution_count": 43,
   "metadata": {},
   "outputs": [
    {
     "name": "stdout",
     "output_type": "stream",
     "text": [
      "(200,)\n",
      "[0.5963561  0.29436707 0.89419657 0.7011282  0.645822   0.8177548\n",
      " 0.6942958  0.20115526 0.41753227 0.32348552 0.6308133  0.81527543\n",
      " 0.30774358 0.49401    0.48665327 0.7722582  0.77549845 0.58834726\n",
      " 0.6790581  0.88533086 0.34771356 0.7881899  0.5149792  0.51549387\n",
      " 0.79252714 0.88281727 0.69174147 0.7947596  0.8773997  0.6139605\n",
      " 0.8287647  0.80343664 0.7303087  0.7065015  0.78340447 0.47932363\n",
      " 0.51362026 0.8244205  0.4665255  0.71167374 0.5660176  0.6783549\n",
      " 0.37390667 0.7644138  0.26814604 0.8550458  0.36447245 0.8634863\n",
      " 0.5085196  0.30160797 0.7386111  0.85732335 0.7527393  0.77583873\n",
      " 0.6442058  0.70527416 0.43014818 0.7553316  0.7414636  0.4755082\n",
      " 0.7609174  0.84093624 0.45762876 0.8700265  0.89438397 0.8829907\n",
      " 0.57568014 0.6440169  0.5339389  0.33183324 0.73655546 0.40194947\n",
      " 0.8808234  0.853271   0.5696221  0.5850628  0.90664613 0.6889255\n",
      " 0.35158786 0.36044043 0.34443274 0.33284256 0.5418453  0.40696752\n",
      " 0.74930125 0.72174525 0.6968184  0.90666246 0.56321883 0.7082612\n",
      " 0.3246067  0.26564714 0.55462277 0.87199104 0.46799874 0.41272452\n",
      " 0.50493    0.8651213  0.42812607 0.6565308  0.5236984  0.7831401\n",
      " 0.67667246 0.3935392  0.33748063 0.8494799  0.5411376  0.6020132\n",
      " 0.80328655 0.72336125 0.8570051  0.62810946 0.76516324 0.7608966\n",
      " 0.58133686 0.618422   0.8627817  0.8949474  0.49356848 0.51823145\n",
      " 0.715703   0.90537125 0.7560073  0.7447004  0.52555007 0.3224307\n",
      " 0.6250428  0.72412544 0.7948886  0.7420689  0.39909253 0.25213858\n",
      " 0.50618696 0.93420416 0.8684899  0.71906525 0.80644065 0.7358001\n",
      " 0.8050039  0.7116515  0.57449204 0.73821545 0.43417984 0.75539297\n",
      " 0.87076044 0.6812297  0.5274989  0.47669598 0.692901   0.8074534\n",
      " 0.4252071  0.87813175 0.579088   0.69566774 0.81788015 0.74913704\n",
      " 0.47023433 0.84499675 0.35589406 0.43630776 0.6975973  0.7852701\n",
      " 0.9002184  0.5179184  0.4588598  0.8571751  0.5989462  0.7724594\n",
      " 0.50595725 0.8245166  0.7606949  0.8263375  0.597463   0.9093253\n",
      " 0.59832674 0.75698566 0.6518999  0.7264211  0.7414897  0.92485076\n",
      " 0.4992968  0.28097755 0.35949466 0.88833076 0.6823009  0.8051062\n",
      " 0.7014941  0.7811355  0.6198145  0.59996486 0.59296465 0.7643245\n",
      " 0.7778046  0.76338154 0.6170468  0.8034939  0.8105969  0.75717086\n",
      " 0.69879997 0.85521525]\n"
     ]
    }
   ],
   "source": [
    "dp_ori = demographic_parity(x_train, y_train, x_test)"
   ]
  },
  {
   "cell_type": "code",
   "execution_count": 44,
   "metadata": {},
   "outputs": [],
   "source": [
    "# find the influence of each data point in X-train by retraining the model, now we have the actual dp and we need fined the delta for different points for demo parity\n",
    "# results are calculated and stored in a file, hence commented to save the train time for 800 iterations \n",
    "\n",
    "# x_train_a = np.copy(x_train)\n",
    "# y_train_a = np.copy(y_train)\n",
    "\n",
    "# result = []\n",
    "\n",
    "# for i in range(len(x_train)):\n",
    "#     x_train_new = np.append(x_train_a, [x_train[i]], axis=0)\n",
    "#     y_train_new = np.append(y_train_a, [y_train[i]])\n",
    "#     result.append(demographic_parity(x_train_new, y_train_new, x_test) - dp_ori)\n",
    "\n",
    "# print(result)\n"
   ]
  },
  {
   "cell_type": "code",
   "execution_count": 45,
   "metadata": {},
   "outputs": [],
   "source": [
    "# np.save('trained_dp.npy', result)"
   ]
  },
  {
   "cell_type": "code",
   "execution_count": 47,
   "metadata": {},
   "outputs": [],
   "source": [
    "clf = eval('LogisticRegression')(input_size=x_train.shape[-1])\n",
    "if isinstance(clf, LogisticRegression):\n",
    "    loss_func = logistic_loss_torch\n"
   ]
  },
  {
   "cell_type": "code",
   "execution_count": 48,
   "metadata": {},
   "outputs": [
    {
     "name": "stdout",
     "output_type": "stream",
     "text": [
      "(19,)\n",
      "<class 'numpy.ndarray'>\n"
     ]
    }
   ],
   "source": [
    "del_F_del_theta = del_predictive_parity_del_theta(clf, x_test_orig, x_test_scalar, y_test)\n",
    "print(del_F_del_theta.shape)\n",
    "print(type(del_F_del_theta))"
   ]
  },
  {
   "cell_type": "code",
   "execution_count": 49,
   "metadata": {},
   "outputs": [
    {
     "name": "stderr",
     "output_type": "stream",
     "text": [
      "100%|██████████| 800/800 [00:05<00:00, 137.03it/s]\n"
     ]
    }
   ],
   "source": [
    "hessian_all_points = get_hessian_all_points(clf, x_train, y_train, loss_func)\n"
   ]
  },
  {
   "cell_type": "code",
   "execution_count": 50,
   "metadata": {},
   "outputs": [
    {
     "name": "stdout",
     "output_type": "stream",
     "text": [
      "(800, 19, 19)\n"
     ]
    }
   ],
   "source": [
    "print(hessian_all_points.shape)"
   ]
  },
  {
   "cell_type": "code",
   "execution_count": 51,
   "metadata": {},
   "outputs": [
    {
     "name": "stdout",
     "output_type": "stream",
     "text": [
      "<class 'numpy.ndarray'>\n",
      "(800, 19)\n"
     ]
    }
   ],
   "source": [
    "del_L_del_theta = get_del_L_del_theta(clf, x_train, y_train, loss_func)\n",
    "print(type(del_L_del_theta))\n",
    "print(del_L_del_theta.shape)"
   ]
  },
  {
   "cell_type": "code",
   "execution_count": 52,
   "metadata": {},
   "outputs": [],
   "source": [
    "hinv_v, hinv = get_hinv_v(hessian_all_points, del_F_del_theta) \n"
   ]
  },
  {
   "cell_type": "code",
   "execution_count": 53,
   "metadata": {},
   "outputs": [
    {
     "name": "stdout",
     "output_type": "stream",
     "text": [
      "(19,)\n"
     ]
    }
   ],
   "source": [
    "print(hinv_v.shape)"
   ]
  },
  {
   "cell_type": "markdown",
   "metadata": {},
   "source": [
    "df/d_epsi = df/d_theta * d_theta/d_epsi\n",
    "\n",
    "d_theta/d_epsi = (1/n)* -H_inv * dL/d_theta \n",
    "\n",
    "df/d_theta = del_F_del_theta"
   ]
  },
  {
   "cell_type": "code",
   "execution_count": 54,
   "metadata": {},
   "outputs": [],
   "source": [
    "hinv_v, hinv = get_hinv_v(hessian_all_points, np.transpose(del_L_del_theta))  #it should be hessian* dL/d_theta \n",
    "# and then it should be multiplied by df/d_theta"
   ]
  },
  {
   "cell_type": "code",
   "execution_count": 55,
   "metadata": {},
   "outputs": [
    {
     "name": "stdout",
     "output_type": "stream",
     "text": [
      "(800,)\n"
     ]
    }
   ],
   "source": [
    "#influence for each data point \n",
    "inf = np.matmul(np.transpose(hinv_v), del_F_del_theta)\n",
    "print(inf.shape)"
   ]
  },
  {
   "cell_type": "code",
   "execution_count": 56,
   "metadata": {},
   "outputs": [
    {
     "name": "stdout",
     "output_type": "stream",
     "text": [
      "<class 'numpy.ndarray'>\n"
     ]
    }
   ],
   "source": [
    "print(type(inf))\n"
   ]
  },
  {
   "cell_type": "code",
   "execution_count": 57,
   "metadata": {},
   "outputs": [
    {
     "name": "stdout",
     "output_type": "stream",
     "text": [
      "[-3.06185883e-01  3.39309248e-01  3.50358758e-01 -5.26500297e-01\n",
      "  4.41162329e-01 -3.93065083e-01 -5.16251333e-01  1.61961777e-01\n",
      " -1.89790352e-01 -2.61654451e-01  2.74583229e-01 -3.51719822e-01\n",
      "  3.31920757e-01 -6.81674118e-01  2.56428930e-02 -1.05704044e-01\n",
      " -1.79831331e-01 -3.43154615e-01 -3.20831685e-01  2.52802808e-01\n",
      " -3.67429031e-01  1.45629820e-02  1.07242431e-01  4.47832574e-01\n",
      "  1.51857050e-01 -1.74769724e-01 -1.42522362e-01  2.75144096e-01\n",
      " -6.12195207e-01  3.08770460e-01 -3.82878619e-01 -7.53402105e-02\n",
      " -6.84897879e-02  4.14619834e-01 -1.86864245e-01  1.34986302e-01\n",
      "  4.10888962e-01 -1.03459999e-01 -2.30580679e-01 -4.52482810e-01\n",
      "  1.75869137e-01 -2.06953004e-01  2.98720570e-01  3.29855478e-01\n",
      "  3.75178039e-01  2.34655624e-01  1.49794306e-01  4.31796023e-01\n",
      "  5.52825883e-02 -4.63240005e-02  3.13809055e-02  1.04425461e-01\n",
      " -4.86584840e-02  4.43900150e-01 -1.07413000e+00 -3.24642823e-01\n",
      "  4.97244882e-01 -5.60594086e-01 -8.61213867e-02 -1.12352401e-02\n",
      " -5.00605876e-01 -3.06635214e-01 -3.78554866e-02 -3.71783014e-01\n",
      "  9.08105661e-03 -1.25783613e-01  4.13265614e-01  5.28607009e-02\n",
      " -1.13678368e-01  1.55966123e-01  3.88133926e-01 -9.06203026e-02\n",
      "  4.74797959e-01 -1.96964518e-01 -2.78921948e-01  9.15187965e-02\n",
      "  1.19180078e-01  4.48234367e-01 -8.96218864e-01 -5.28036467e-02\n",
      " -4.66780180e-01  1.83909286e-01 -4.57531876e-01  1.74709943e-01\n",
      "  1.45427287e-01 -1.13088109e+00  2.59277825e-01 -1.76631852e-01\n",
      "  1.28732244e-01 -4.79426986e-02 -6.69592434e-02  1.92685963e-01\n",
      "  2.53773695e-01  8.21045082e-02  5.44840100e-02 -3.53383488e-01\n",
      " -2.03586850e-01  1.25827138e-01 -8.91872443e-02 -3.89965260e-01\n",
      "  7.46252387e-02  9.85109737e-02  3.00798492e-01  1.59238971e-01\n",
      "  3.86657990e-01  7.73236066e-02 -3.21123399e-01 -1.36375651e-01\n",
      "  3.30756133e-01 -1.40303618e-02 -1.69179094e-01  5.46337494e-01\n",
      " -3.74069892e-01  4.27937818e-01 -2.64651680e-01  3.26241327e-01\n",
      "  4.65273547e-01  1.61404214e-01 -5.09761055e-02 -2.03821115e-01\n",
      " -1.72089426e-01  8.09804225e-02 -8.37203680e-02 -1.39371423e-01\n",
      "  2.12651561e-01  5.20551462e-01  9.23210611e-02 -8.88294492e-01\n",
      " -1.93561438e-01 -1.62395499e-01 -1.56050764e-01 -1.31735874e-01\n",
      "  1.25937201e-01  5.17441201e-03  1.36979919e-01 -5.92311799e-02\n",
      " -5.49624546e-02  2.80209012e-02 -8.98963620e-02  1.72877414e-01\n",
      " -6.79209923e-01 -2.54976670e-01  4.67167029e-01  4.80003245e-03\n",
      "  6.56759067e-01  4.21495199e-01 -6.21712629e-01  8.01578569e-02\n",
      " -6.45585193e-01  4.16977818e-01 -2.30748800e-01 -2.50651705e-01\n",
      " -6.40293415e-02 -4.24398879e-02 -8.62184667e-02  1.95196384e-01\n",
      " -1.04690091e-01  4.55137510e-01  1.99967281e-01 -4.63264244e-01\n",
      "  2.90588549e-01  1.89579997e-01 -4.60462158e-02 -3.06813103e-02\n",
      " -1.04638301e-01 -1.28244804e-01  2.38016294e-01  3.05166448e-01\n",
      "  1.89078985e-01  1.05891959e-01 -1.35917638e-01 -5.52680413e-01\n",
      "  2.35833588e-01  8.51575532e-02  2.54519518e-01 -2.92461601e-01\n",
      "  4.43057668e-01 -8.65508746e-01  1.04765563e-01  4.46191990e-01\n",
      "  5.06317756e-01  1.35297586e-01 -1.53395912e-01 -4.06772388e-01\n",
      " -4.79398504e-01 -1.72782327e-01 -9.82387339e-02 -7.63525487e-01\n",
      "  9.50287731e-02 -3.12243236e-02  2.60836204e-01 -6.11182090e-02\n",
      " -1.24361786e-01  3.11852475e-01  6.77453160e-02 -3.04514858e-01\n",
      "  3.24804178e-01  4.28458654e-01  2.78812657e-01  9.12588046e-02\n",
      "  2.10697970e-01 -3.87943956e-02  4.97092507e-01  2.81646463e-01\n",
      "  1.20229588e-01  1.62987589e-01  1.87156160e-01 -2.68774884e-01\n",
      "  1.87199146e-01 -2.47383609e-01  1.56751741e-01 -1.46232321e-01\n",
      " -2.36488475e-01 -1.60406758e-01  2.49944607e-01  7.81411654e-02\n",
      "  3.53633995e-01  2.28165403e-01 -2.52168690e-01  4.05446152e-02\n",
      "  7.64503333e-02  1.56638415e-01 -1.97130252e-02  3.58416734e-02\n",
      "  4.94275761e-02 -7.49386707e-01  4.45360415e-01 -9.73396953e-04\n",
      "  3.17623925e-01  1.99860822e-01 -5.72237615e-02  2.07397977e-01\n",
      "  5.92744622e-01  2.18522564e-01 -5.90665481e-01  2.36571519e-01\n",
      " -2.23521837e-01  4.43479186e-02  7.57772695e-02  1.59274862e-01\n",
      " -3.81542735e-01  5.46685494e-01 -4.45802630e-01 -5.58334710e-02\n",
      "  3.33820506e-01 -2.92640109e-01  2.21811889e-02  3.58802172e-01\n",
      " -3.40208237e-01 -2.33071614e-02  2.33528162e-01 -5.07643193e-02\n",
      "  1.54660936e-01 -6.58133120e-02  2.08143967e-01 -3.72562921e-03\n",
      "  9.49654699e-02  1.86485898e-01 -8.38728691e-03  7.97856062e-02\n",
      " -4.64957193e-02  2.00095888e-01 -3.89758030e-01  3.68727042e-01\n",
      "  6.47248913e-02  2.69201247e-01 -4.15424439e-01  3.85018166e-02\n",
      " -2.07783089e-01 -1.49486134e-01 -1.96563171e-01  2.79574499e-02\n",
      " -1.86014183e-01 -7.35302707e-01  9.91710570e-02 -4.11851541e-01\n",
      " -3.78433603e-01  4.66931108e-02 -4.80266647e-01 -3.35578305e-01\n",
      " -9.07621801e-02  3.13851770e-01  9.11862659e-02 -9.73093093e-01\n",
      " -7.70253268e-02  2.33313637e-01  1.89651531e-01  3.61997143e-01\n",
      " -6.86693211e-01 -2.78094225e-02  6.25925718e-02 -7.46723434e-01\n",
      "  1.88479496e-02 -1.75040849e-01 -2.47044282e-01  6.27751871e-01\n",
      " -9.62952405e-02 -5.52127762e-02  3.42058099e-01 -3.09556909e-01\n",
      " -1.97283129e-01  4.79914908e-01 -1.94872466e-01  1.47369797e-01\n",
      "  2.55203708e-02  3.06793880e-02  2.34741225e-01  3.63461217e-02\n",
      " -2.53634283e-02  3.56694960e-01 -3.78496361e-01  8.88825068e-02\n",
      " -1.30199785e-02  1.45385526e-01  3.08186461e-01  2.24467617e-01\n",
      " -1.00307636e-02  5.01229347e-01 -3.09240260e-01  8.34999930e-02\n",
      "  2.10330600e-01 -4.29501159e-01 -7.26724348e-01 -9.38616827e-02\n",
      " -1.01635880e-01  3.80464455e-01  9.27718355e-03 -5.52628460e-01\n",
      " -1.95536540e-01 -5.74345783e-01  1.05691722e-01  3.08223181e-02\n",
      "  3.65511160e-01  5.95412881e-03 -8.22968832e-02 -6.47255929e-01\n",
      " -1.23432582e-01 -6.64884282e-01  1.16677597e-01 -2.48300154e-01\n",
      " -4.88574896e-01  3.92745588e-01 -1.14024263e-01  3.70488986e-01\n",
      "  1.29450446e-01  2.66642447e-01  4.91955548e-01  6.65363672e-01\n",
      "  3.81872306e-01 -6.41780179e-01  2.40522257e-01 -1.21239186e-01\n",
      " -2.86593046e-02  4.91552033e-01 -1.47444917e+00  3.88814009e-01\n",
      " -2.12698174e-01  3.12836318e-01  5.35354694e-01 -1.34353859e+00\n",
      "  2.71591546e-01 -6.64807852e-02  2.23232539e-01 -1.48031403e+00\n",
      "  5.60422196e-01 -1.49006524e-01 -9.86370798e-01  4.00999525e-01\n",
      "  2.94534442e-01  2.20270728e-01  4.17880840e-01  3.78467174e-04\n",
      " -2.89137989e-01 -3.48340590e-01  1.05022958e-01 -3.70127381e-01\n",
      "  7.89689184e-02  1.27730467e-01 -1.37905304e+00  5.52762371e-02\n",
      "  3.41047083e-01 -1.30625679e-02 -9.45004440e-02  1.47978862e-01\n",
      "  3.02069815e-01 -2.23733325e-01 -6.35018380e-01  3.16945729e-01\n",
      "  4.01384672e-01  1.92584852e-01 -2.41888005e-01  2.58945808e-01\n",
      " -2.29543553e-01 -6.07998014e-02 -1.54788614e-01 -3.77451850e-01\n",
      "  2.30376689e-01  6.69415959e-04 -1.37273657e-01  9.55228098e-02\n",
      "  1.42591316e-01  2.34628727e-01  1.37228340e-01 -1.16368915e-01\n",
      "  1.08688250e-01 -4.92922873e-01  3.77579056e-03 -1.48201762e-01\n",
      "  6.56766252e-02 -5.88795466e-02  3.51289380e-01  1.92835557e-02\n",
      "  2.06595213e-01 -8.36594765e-01  2.71702052e-01  1.25883708e-01\n",
      " -9.30050249e-02  6.40264162e-01  2.57590691e-01 -4.93737573e-02\n",
      "  1.55872321e-01  1.81196214e-01 -8.36583446e-01  3.65396451e-01\n",
      "  6.69890204e-02 -2.37033619e-02  3.98822965e-01 -1.48153611e-02\n",
      " -4.86217364e-01  2.08611097e-01  1.49925513e-01  1.07613085e-01\n",
      " -6.66910805e-02 -1.27542172e+00 -3.05041179e-01 -4.42363428e-01\n",
      "  1.63082923e-01  3.89983914e-01 -1.98826617e-01  2.08601520e-01\n",
      "  2.61552133e-01  1.76746310e-01  1.39770381e-01  3.11259642e-01\n",
      "  6.51930508e-02 -2.73951919e-01  2.56230518e-01  2.14700007e-01\n",
      "  2.03907435e-01  1.26277492e-02 -3.19965861e-02  2.10052505e-01\n",
      "  4.22208989e-02  1.29507454e-01  2.85277746e-01 -1.70920903e-01\n",
      "  5.33663530e-01 -4.10611843e-01 -8.13535949e-01  4.57962958e-01\n",
      " -6.94491692e-02 -2.90235578e-02  4.06914056e-02  2.36817121e-01\n",
      " -1.18246773e-01  2.30742173e-01  4.12685180e-01 -3.44327464e-01\n",
      " -1.74176285e-01  1.38476324e-01 -3.42184829e-01  2.76811902e-01\n",
      " -8.54336627e-01 -8.98321565e-01  2.95490104e-01 -4.61246504e-01\n",
      "  1.77943121e-01  4.68675920e-01 -2.75454107e-01  2.14431669e-01\n",
      "  7.74047276e-02  3.24180711e-01 -2.48914288e-01 -1.23128344e-01\n",
      " -3.49461539e-01  4.00928677e-01 -6.94422546e-02  1.37429599e-01\n",
      "  2.31834838e-01 -2.80738438e-01 -5.24246719e-01  2.38275316e-01\n",
      " -1.97389687e-01 -1.15466803e-01 -8.55294896e-02  1.41410793e-01\n",
      " -5.47337935e-01  1.67060104e-01 -2.80129418e-02  2.18399546e-01\n",
      "  2.22296542e-02 -1.30180664e-01  1.79029463e-01  1.28150322e-01\n",
      " -1.03516285e-01  2.49545665e-01 -1.34085682e-01  6.54165553e-02\n",
      " -3.15967096e-01  1.33916202e-01 -5.90292434e-02 -7.66131198e-01\n",
      "  3.87816685e-01 -5.76719098e-03 -1.44602481e-02  9.32578340e-02\n",
      "  2.15321374e-01 -1.72732200e-01  2.26783121e-01  4.76570666e-01\n",
      " -2.71987912e-01 -3.46089925e-01  1.77882835e-01  2.84453847e-01\n",
      "  2.23819677e-01 -1.87519234e-01 -9.07080421e-02  1.98600546e-01\n",
      " -8.49754933e-02 -1.20092878e-01  3.34466338e-01 -2.84568035e-01\n",
      "  7.72350561e-01  8.73972972e-02 -5.05188554e-01  2.01530231e-01\n",
      "  1.86817227e-01 -2.54175811e-01  2.31690940e-01 -2.17222139e-01\n",
      "  1.73766145e-01 -3.18593591e-01 -8.65406451e-02  1.78410719e-01\n",
      "  2.37884391e-01  1.87229526e-01  8.49369847e-01 -1.39701790e-01\n",
      " -2.99289281e-01  2.42686025e-01 -8.68252090e-01  4.73069372e-01\n",
      "  1.46322550e-01  1.17533306e-01  7.57618235e-01 -1.38143652e-01\n",
      "  3.94105781e-01 -1.12157232e-01 -6.00248365e-02 -3.10259637e-02\n",
      "  6.02462321e-02  2.87526660e-01  2.80205760e-01  5.58207339e-01\n",
      "  1.75248194e-01  3.82147786e-01  3.44600651e-01 -3.94502683e-01\n",
      " -3.03848387e-01  5.01666189e-01 -8.50991909e-01  1.87345296e-01\n",
      "  4.54456678e-01  4.30809628e-01  2.16123680e-01  9.87766199e-02\n",
      " -3.75219356e-01  1.39876068e-01 -3.68081615e-01  7.47712190e-01\n",
      " -1.08455293e-01  1.07459756e-01  2.17947696e-01  8.48145907e-02\n",
      " -6.61640234e-02  4.58561030e-01  6.40688028e-01 -1.14649216e-01\n",
      " -4.01788599e-01 -8.85887317e-01 -1.98314070e-01 -1.13553385e-01\n",
      " -3.88986725e-01  1.46282395e-01  7.03883746e-02  1.15450345e-01\n",
      " -9.34712102e-03 -6.08177459e-01 -1.41171319e-01  3.04069639e-01\n",
      "  1.60934128e-01  4.28895935e-01  1.22469551e-01  4.06255715e-01\n",
      "  2.52215299e-01  2.75536947e-02  5.67917065e-02  1.09144829e-01\n",
      " -8.92284159e-02  1.51309953e-02 -1.55090553e-01 -5.12117966e-01\n",
      "  3.03511134e-01  6.22407133e-01 -8.90990857e-02  1.14644099e-01\n",
      "  1.11930745e-01 -1.24774193e-01  2.68167037e-01  2.60790758e-01\n",
      "  2.08402428e-01 -7.00153374e-01  1.04141102e-01  3.46238386e-01\n",
      "  7.76311930e-02  2.22826046e-01  1.47706626e-01 -2.86375273e-02\n",
      " -1.21454098e+00 -3.12929909e-01 -1.50736362e+00  2.43355028e-01\n",
      "  7.46460529e-01 -8.14029490e-01 -1.16573506e-01  1.33598185e-01\n",
      " -1.92414632e-01  1.82510131e-01 -2.83323882e-01  1.37720060e-01\n",
      " -3.28351250e-01 -8.55120157e-01  2.45059931e-01  4.43235875e-01\n",
      "  1.25358719e-01  1.93347819e-01  3.23112271e-02 -3.52785569e-01\n",
      " -3.04687834e-01 -3.91354557e-01 -6.96155699e-02 -2.52639037e-01\n",
      " -2.47426979e-01  2.84434262e-01  1.80924382e-01  2.35106952e-01\n",
      "  5.37874844e-01  1.44587076e-01  7.17818430e-02  2.64093754e-02\n",
      "  5.49632264e-01  2.24570221e-01  7.44506698e-02  2.47770292e-01\n",
      "  1.96679818e-01  1.36791131e-01  2.77399400e-01  4.29359843e-02\n",
      " -4.88484552e-01  1.91583991e-01  4.40980998e-01  6.54784501e-02\n",
      " -4.81946550e-01 -4.34534365e-01 -2.35090897e-01 -2.10514166e-02\n",
      " -4.97489558e-01  2.86138056e-01 -1.18363777e-01  3.63978238e-01\n",
      " -1.52819431e-01 -2.67495574e-01  2.84388295e-01  4.93381979e-01\n",
      " -6.12195207e-01  2.77885791e-01  2.53264997e-02 -5.05546536e-02\n",
      " -7.34300489e-01  6.95280825e-01 -3.41140949e-01  1.17697277e-02\n",
      "  2.86965145e-01 -4.03272577e-01  4.55534250e-01 -4.50108079e-01\n",
      " -6.81142958e-01 -2.85983388e-01 -2.68547522e-01  1.32976367e-01\n",
      " -7.36704183e-02 -4.14477115e-01 -2.36175346e-01  6.27621143e-01\n",
      "  2.94654800e-01  5.23956618e-02  3.09187302e-01 -2.00434146e-02\n",
      " -1.12739482e-01  4.61520254e-02 -6.80057854e-01 -2.47507492e-02\n",
      " -4.43216994e-01 -6.27322656e-02 -1.53457477e-01 -4.68309939e-01\n",
      " -6.06079077e-01  2.15796283e-01 -3.63327050e-01  1.24611757e-01\n",
      " -1.54145162e-01 -1.05848944e-01  1.08244620e-01  2.29788418e-01\n",
      "  7.77695960e-02 -3.40324432e-01 -1.91097822e-01  2.72608488e-01\n",
      "  1.49670313e-01 -3.79509217e-01  1.71432137e-02  4.26466067e-01\n",
      "  1.88424534e-01  1.50893791e-01  1.55891465e-01  2.64521771e-02\n",
      " -1.48715572e-01  7.04434798e-02  4.13561930e-01 -5.83506222e-01\n",
      "  4.88980053e-02 -5.78758334e-01 -1.41943893e+00  1.28564067e-01\n",
      "  1.37570820e-01  3.48164137e-01  5.22806103e-01  1.87835871e-01\n",
      "  3.42641220e-01  1.39474602e-02 -5.20555241e-01  1.56542241e-01\n",
      "  1.57066219e-02  5.98290504e-02  2.61448604e-01 -1.22576193e-01\n",
      " -3.48740323e-01  9.81293627e-02  3.58421203e-02 -2.83404872e-02\n",
      " -8.64735655e-02 -8.94110095e-02 -3.54841018e-01 -4.49979209e-01\n",
      "  1.11843114e-01  1.63953550e-01 -1.51752900e-01  2.29516260e-01\n",
      "  8.00001818e-02 -7.89503113e-01 -4.37125636e-01  8.27110130e-02\n",
      "  2.79474625e-01  1.87949424e-02 -2.42570800e-02  1.34438555e-02\n",
      "  7.22978771e-01  2.79244656e-01 -2.42906898e-02 -5.74240791e-02\n",
      "  2.76115754e-02 -8.90012826e-02  1.06381190e-01  4.10303607e-01\n",
      "  7.92763685e-02 -7.65917029e-01 -6.66812588e-01  2.69201247e-01\n",
      " -1.46567870e-01  3.64244789e-01  4.20971517e-02  3.90511475e-01\n",
      "  2.20390940e-01 -3.04003158e-01  4.45724311e-01 -2.84360382e-01\n",
      " -1.34377584e-01  4.09102382e-01 -1.82277968e-01 -2.86375273e-02]\n"
     ]
    }
   ],
   "source": [
    "print(inf)"
   ]
  },
  {
   "cell_type": "code",
   "execution_count": 58,
   "metadata": {},
   "outputs": [],
   "source": [
    "result = np.load('trained_dp.npy')\n",
    "trained_arr = np.array(result)"
   ]
  },
  {
   "cell_type": "code",
   "execution_count": 59,
   "metadata": {},
   "outputs": [
    {
     "data": {
      "image/png": "[encoded data removed]",
      "text/plain": [
       "<Figure size 640x480 with 1 Axes>"
      ]
     },
     "metadata": {},
     "output_type": "display_data"
    }
   ],
   "source": [
    "import matplotlib.pyplot as plt\n",
    "df = pd.DataFrame({'Trained': trained_arr, 'Calculated': inf})\n",
    "plt.plot(df['Trained'], df['Calculated'], marker='o', linestyle='-')\n",
    "plt.title('Graph between Trained and Calculated')\n",
    "plt.xlabel('Trained')\n",
    "plt.ylabel('Calculated')\n",
    "plt.grid(True)\n",
    "plt.show()"
   ]
  },
  {
   "cell_type": "code",
   "execution_count": null,
   "metadata": {},
   "outputs": [],
   "source": []
  }
 ],
 "metadata": {
  "kernelspec": {
   "display_name": "influenceGopher",
   "language": "python",
   "name": "python3"
  },
  "language_info": {
   "codemirror_mode": {
    "name": "ipython",
    "version": 3
   },
   "file_extension": ".py",
   "mimetype": "text/x-python",
   "name": "python",
   "nbconvert_exporter": "python",
   "pygments_lexer": "ipython3",
   "version": "3.8.18"
  }
 },
 "nbformat": 4,
 "nbformat_minor": 2
}
