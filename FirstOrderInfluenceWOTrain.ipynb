{
 "cells": [
  {
   "cell_type": "code",
   "execution_count": 1,
   "metadata": {},
   "outputs": [],
   "source": [
    "import pandas as pd \n",
    "from sklearn.model_selection import train_test_split\n",
    "from sklearn.linear_model import LogisticRegression\n",
    "from sklearn.neighbors import KNeighborsClassifier\n",
    "from sklearn.metrics import accuracy_score, classification_report\n",
    "from sklearn.preprocessing import LabelEncoder\n",
    "import numpy as np\n",
    "from hessians_calc import *\n",
    "from demo_parity_calc import *\n",
    "import copy\n"
   ]
  },
  {
   "cell_type": "code",
   "execution_count": 2,
   "metadata": {},
   "outputs": [],
   "source": [
    "cols = ['status', 'duration', 'credit_hist', 'purpose', 'credit_amt', 'savings', 'employment', 'installment_rate', 'personal_status', 'debtors', 'residencesince', 'property', 'age', 'install_plans', 'housing', 'existing_credits', 'job', 'maintenance_paying_people', 'telephone', 'foreign_worker', 'result']\n",
    "url = 'https://archive.ics.uci.edu/ml/machine-learning-databases/statlog/german/german.data'\n",
    "df = pd.read_csv(url, delimiter=' ', names=cols, index_col=False)\n",
    "df['result'] = df['result'].replace(2,0)"
   ]
  },
  {
   "cell_type": "code",
   "execution_count": 3,
   "metadata": {},
   "outputs": [
    {
     "data": {
      "text/html": [
       "<div>\n",
       "<style scoped>\n",
       "    .dataframe tbody tr th:only-of-type {\n",
       "        vertical-align: middle;\n",
       "    }\n",
       "\n",
       "    .dataframe tbody tr th {\n",
       "        vertical-align: top;\n",
       "    }\n",
       "\n",
       "    .dataframe thead th {\n",
       "        text-align: right;\n",
       "    }\n",
       "</style>\n",
       "<table border=\"1\" class=\"dataframe\">\n",
       "  <thead>\n",
       "    <tr style=\"text-align: right;\">\n",
       "      <th></th>\n",
       "      <th>status</th>\n",
       "      <th>duration</th>\n",
       "      <th>credit_hist</th>\n",
       "      <th>purpose</th>\n",
       "      <th>credit_amt</th>\n",
       "      <th>savings</th>\n",
       "      <th>employment</th>\n",
       "      <th>installment_rate</th>\n",
       "      <th>personal_status</th>\n",
       "      <th>debtors</th>\n",
       "      <th>...</th>\n",
       "      <th>property</th>\n",
       "      <th>age</th>\n",
       "      <th>install_plans</th>\n",
       "      <th>housing</th>\n",
       "      <th>existing_credits</th>\n",
       "      <th>job</th>\n",
       "      <th>maintenance_paying_people</th>\n",
       "      <th>telephone</th>\n",
       "      <th>foreign_worker</th>\n",
       "      <th>result</th>\n",
       "    </tr>\n",
       "  </thead>\n",
       "  <tbody>\n",
       "    <tr>\n",
       "      <th>0</th>\n",
       "      <td>A11</td>\n",
       "      <td>6</td>\n",
       "      <td>A34</td>\n",
       "      <td>A43</td>\n",
       "      <td>1169</td>\n",
       "      <td>A65</td>\n",
       "      <td>A75</td>\n",
       "      <td>4</td>\n",
       "      <td>A93</td>\n",
       "      <td>A101</td>\n",
       "      <td>...</td>\n",
       "      <td>A121</td>\n",
       "      <td>67</td>\n",
       "      <td>A143</td>\n",
       "      <td>A152</td>\n",
       "      <td>2</td>\n",
       "      <td>A173</td>\n",
       "      <td>1</td>\n",
       "      <td>A192</td>\n",
       "      <td>A201</td>\n",
       "      <td>1</td>\n",
       "    </tr>\n",
       "    <tr>\n",
       "      <th>1</th>\n",
       "      <td>A12</td>\n",
       "      <td>48</td>\n",
       "      <td>A32</td>\n",
       "      <td>A43</td>\n",
       "      <td>5951</td>\n",
       "      <td>A61</td>\n",
       "      <td>A73</td>\n",
       "      <td>2</td>\n",
       "      <td>A92</td>\n",
       "      <td>A101</td>\n",
       "      <td>...</td>\n",
       "      <td>A121</td>\n",
       "      <td>22</td>\n",
       "      <td>A143</td>\n",
       "      <td>A152</td>\n",
       "      <td>1</td>\n",
       "      <td>A173</td>\n",
       "      <td>1</td>\n",
       "      <td>A191</td>\n",
       "      <td>A201</td>\n",
       "      <td>0</td>\n",
       "    </tr>\n",
       "    <tr>\n",
       "      <th>2</th>\n",
       "      <td>A14</td>\n",
       "      <td>12</td>\n",
       "      <td>A34</td>\n",
       "      <td>A46</td>\n",
       "      <td>2096</td>\n",
       "      <td>A61</td>\n",
       "      <td>A74</td>\n",
       "      <td>2</td>\n",
       "      <td>A93</td>\n",
       "      <td>A101</td>\n",
       "      <td>...</td>\n",
       "      <td>A121</td>\n",
       "      <td>49</td>\n",
       "      <td>A143</td>\n",
       "      <td>A152</td>\n",
       "      <td>1</td>\n",
       "      <td>A172</td>\n",
       "      <td>2</td>\n",
       "      <td>A191</td>\n",
       "      <td>A201</td>\n",
       "      <td>1</td>\n",
       "    </tr>\n",
       "    <tr>\n",
       "      <th>3</th>\n",
       "      <td>A11</td>\n",
       "      <td>42</td>\n",
       "      <td>A32</td>\n",
       "      <td>A42</td>\n",
       "      <td>7882</td>\n",
       "      <td>A61</td>\n",
       "      <td>A74</td>\n",
       "      <td>2</td>\n",
       "      <td>A93</td>\n",
       "      <td>A103</td>\n",
       "      <td>...</td>\n",
       "      <td>A122</td>\n",
       "      <td>45</td>\n",
       "      <td>A143</td>\n",
       "      <td>A153</td>\n",
       "      <td>1</td>\n",
       "      <td>A173</td>\n",
       "      <td>2</td>\n",
       "      <td>A191</td>\n",
       "      <td>A201</td>\n",
       "      <td>1</td>\n",
       "    </tr>\n",
       "    <tr>\n",
       "      <th>4</th>\n",
       "      <td>A11</td>\n",
       "      <td>24</td>\n",
       "      <td>A33</td>\n",
       "      <td>A40</td>\n",
       "      <td>4870</td>\n",
       "      <td>A61</td>\n",
       "      <td>A73</td>\n",
       "      <td>3</td>\n",
       "      <td>A93</td>\n",
       "      <td>A101</td>\n",
       "      <td>...</td>\n",
       "      <td>A124</td>\n",
       "      <td>53</td>\n",
       "      <td>A143</td>\n",
       "      <td>A153</td>\n",
       "      <td>2</td>\n",
       "      <td>A173</td>\n",
       "      <td>2</td>\n",
       "      <td>A191</td>\n",
       "      <td>A201</td>\n",
       "      <td>0</td>\n",
       "    </tr>\n",
       "  </tbody>\n",
       "</table>\n",
       "<p>5 rows × 21 columns</p>\n",
       "</div>"
      ],
      "text/plain": [
       "  status  duration credit_hist purpose  credit_amt savings employment  \\\n",
       "0    A11         6         A34     A43        1169     A65        A75   \n",
       "1    A12        48         A32     A43        5951     A61        A73   \n",
       "2    A14        12         A34     A46        2096     A61        A74   \n",
       "3    A11        42         A32     A42        7882     A61        A74   \n",
       "4    A11        24         A33     A40        4870     A61        A73   \n",
       "\n",
       "   installment_rate personal_status debtors  ...  property age  install_plans  \\\n",
       "0                 4             A93    A101  ...      A121  67           A143   \n",
       "1                 2             A92    A101  ...      A121  22           A143   \n",
       "2                 2             A93    A101  ...      A121  49           A143   \n",
       "3                 2             A93    A103  ...      A122  45           A143   \n",
       "4                 3             A93    A101  ...      A124  53           A143   \n",
       "\n",
       "  housing existing_credits   job maintenance_paying_people  telephone  \\\n",
       "0    A152                2  A173                         1       A192   \n",
       "1    A152                1  A173                         1       A191   \n",
       "2    A152                1  A172                         2       A191   \n",
       "3    A153                1  A173                         2       A191   \n",
       "4    A153                2  A173                         2       A191   \n",
       "\n",
       "  foreign_worker result  \n",
       "0           A201      1  \n",
       "1           A201      0  \n",
       "2           A201      1  \n",
       "3           A201      1  \n",
       "4           A201      0  \n",
       "\n",
       "[5 rows x 21 columns]"
      ]
     },
     "execution_count": 3,
     "metadata": {},
     "output_type": "execute_result"
    }
   ],
   "source": [
    "df.head()"
   ]
  },
  {
   "cell_type": "code",
   "execution_count": 4,
   "metadata": {},
   "outputs": [],
   "source": [
    "def preprocess_german(df):\n",
    "    df['status'] = df['status'].map({'A11': 0, 'A12': 1, 'A13': 2, 'A14': 3}).astype(int)\n",
    "    df['credit_hist'] = df['credit_hist'].map({'A34': 0, 'A33': 1, 'A32': 2, 'A31': 3, 'A30': 4}).astype(int)\n",
    "    df.loc[(df['credit_amt'] <= 2000), 'credit_amt'] = 0\n",
    "    df.loc[(df['credit_amt'] > 2000) & (df['credit_amt'] <= 5000), 'credit_amt'] = 1\n",
    "    df.loc[(df['credit_amt'] > 5000), 'credit_amt'] = 2\n",
    "    df.loc[(df['duration'] <= 12), 'duration'] = 0\n",
    "    df.loc[(df['duration'] > 12) & (df['duration'] <= 24), 'duration'] = 1\n",
    "    df.loc[(df['duration'] > 24) & (df['duration'] <= 36), 'duration'] = 2\n",
    "    df.loc[(df['duration'] > 36), 'duration'] = 3\n",
    "    df['age'] = df['age'].apply(lambda x : 1 if x >= 45 else 0) # 1 if old, 0 if young\n",
    "    df['savings'] = df['savings'].map({'A61': 0, 'A62': 1, 'A63': 2, 'A64': 3, 'A65': 4}).astype(int)\n",
    "    df['employment'] = df['employment'].map({'A71': 0, 'A72': 1, 'A73': 2, 'A74': 3, 'A75': 4}).astype(int)\n",
    "    df['gender'] = df['personal_status'].map({'A91': 1, 'A92': 0, 'A93': 1, 'A94': 1, 'A95': 0}).astype(int)\n",
    "    df['debtors'] = df['debtors'].map({'A101': 0, 'A102': 1, 'A103': 2}).astype(int)\n",
    "    df['property'] = df['property'].map({'A121': 3, 'A122': 2, 'A123': 1, 'A124': 0}).astype(int)\n",
    "    df['install_plans'] = df['install_plans'].map({'A141': 1, 'A142': 1, 'A143': 0}).astype(int)\n",
    "    df['job'] = df['job'].map({'A171': 0, 'A172': 1, 'A173': 2, 'A174': 3}).astype(int)\n",
    "    df['telephone'] = df['telephone'].map({'A191': 0, 'A192': 1}).astype(int)\n",
    "    df['foreign_worker'] = df['foreign_worker'].map({'A201': 1, 'A202': 0}).astype(int)\n",
    "    pd.get_dummies(df, columns=['purpose', 'housing'], drop_first=True)\n",
    "\n",
    "    return df"
   ]
  },
  {
   "cell_type": "code",
   "execution_count": 5,
   "metadata": {},
   "outputs": [],
   "source": [
    "df = preprocess_german(df)"
   ]
  },
  {
   "cell_type": "code",
   "execution_count": 6,
   "metadata": {},
   "outputs": [],
   "source": [
    "df = df.drop([\"purpose\", \"housing\", \"personal_status\"], axis=1)\n",
    "x = df[['status', 'duration', 'credit_hist', 'credit_amt', 'savings',\n",
    "       'employment', 'installment_rate', 'debtors', 'residencesince',\n",
    "       'property', 'age', 'install_plans', 'existing_credits', 'job',\n",
    "       'maintenance_paying_people', 'telephone', 'foreign_worker',\n",
    "       'gender']]\n",
    "\n",
    "y = df['result']"
   ]
  },
  {
   "cell_type": "code",
   "execution_count": 7,
   "metadata": {},
   "outputs": [
    {
     "data": {
      "text/plain": [
       "1000"
      ]
     },
     "execution_count": 7,
     "metadata": {},
     "output_type": "execute_result"
    }
   ],
   "source": [
    "len(y)"
   ]
  },
  {
   "cell_type": "code",
   "execution_count": 8,
   "metadata": {},
   "outputs": [],
   "source": [
    "x_train, x_test, y_train, y_test = train_test_split(x, y, test_size=0.20, random_state=1)\n",
    "x_train = x_train.reset_index(drop=True)\n",
    "x_test = x_test.reset_index(drop=True)\n",
    "y_train = y_train.reset_index(drop=True)\n",
    "y_test = y_test.reset_index(drop=True)"
   ]
  },
  {
   "cell_type": "code",
   "execution_count": 9,
   "metadata": {},
   "outputs": [
    {
     "name": "stdout",
     "output_type": "stream",
     "text": [
      "<class 'numpy.ndarray'>\n",
      "<class 'pandas.core.frame.DataFrame'>\n"
     ]
    }
   ],
   "source": [
    "x_test_orig = copy.deepcopy(x_test)\n",
    "from sklearn.preprocessing import StandardScaler\n",
    "sc = StandardScaler()\n",
    "x_train = sc.fit_transform(x_train)\n",
    "x_test_scalar = sc.fit_transform(x_test)\n",
    "print(type(x_test_scalar))\n",
    "print(type(x_test))"
   ]
  },
  {
   "cell_type": "code",
   "execution_count": 10,
   "metadata": {},
   "outputs": [],
   "source": [
    "#calculate the influence of each train data point by retraining\n",
    "clf_name = 'LogisticRegression'"
   ]
  },
  {
   "cell_type": "code",
   "execution_count": 11,
   "metadata": {},
   "outputs": [],
   "source": [
    "def demographic_parity(x_train_temp, y_train_temp, x_test_temp):\n",
    "    # find the predictive probabilities for the protected and privileged groups based on 'age'\n",
    "    sc = StandardScaler()\n",
    "    x_test_scalar_temp = sc.fit_transform(x_test_temp)\n",
    "\n",
    "    clf = eval(clf_name)(input_size=x_train_temp.shape[-1])\n",
    "    clf.fit(x_train_temp, y_train_temp)\n",
    "\n",
    "    y_pred_proba_temp = clf.predict_proba(x_test_scalar_temp)\n",
    "\n",
    "    privileged_gp_indices = x_test_temp[x_test_temp['age'] == 1].index\n",
    "    protected_gp_indices = x_test_temp[x_test_temp['age'] == 0].index\n",
    "\n",
    "    privileged_positive_pred = 0\n",
    "    for x in range(len(privileged_gp_indices)):\n",
    "        privileged_positive_pred += y_pred_proba_temp[privileged_gp_indices[x]]\n",
    "    privileged_positive_pred /= len(privileged_gp_indices)\n",
    "\n",
    "    protected_positive_pred = 0\n",
    "    for x in range(len(protected_gp_indices)):\n",
    "        protected_positive_pred += y_pred_proba_temp[protected_gp_indices[x]]\n",
    "    protected_positive_pred /= len(protected_gp_indices)\n",
    "\n",
    "    return  protected_positive_pred - privileged_positive_pred"
   ]
  },
  {
   "cell_type": "code",
   "execution_count": 12,
   "metadata": {},
   "outputs": [],
   "source": [
    "import pickle \n",
    "\n",
    "data = {'Xtrain': x_train, 'Ytrain': y_train, 'Xtest': x_test}\n",
    "with open('data.pkl', 'wb') as f:\n",
    "    pickle.dump(data,f)"
   ]
  },
  {
   "cell_type": "code",
   "execution_count": 13,
   "metadata": {},
   "outputs": [
    {
     "name": "stdout",
     "output_type": "stream",
     "text": [
      "-0.07884407313540576\n"
     ]
    }
   ],
   "source": [
    "dp_ori = demographic_parity(x_train, y_train, x_test)\n",
    "print(dp_ori)\n"
   ]
  },
  {
   "cell_type": "code",
   "execution_count": 14,
   "metadata": {},
   "outputs": [],
   "source": [
    "# find the influence of each data point in X-train by retraining the model, now we have the actual dp and we need fined the delta for different points for demo parity\n",
    "# results are calculated and stored in a file, hence commented to save the train time for 800 iterations \n",
    "\n",
    "x_train_a = np.copy(x_train)\n",
    "y_train_a = np.copy(y_train)\n",
    "\n",
    "result = []\n",
    "\n",
    "for i in range(len(x_train)):\n",
    "    x_train_new = np.append(x_train_a, [x_train[i]], axis=0)\n",
    "    y_train_new = np.append(y_train_a, [y_train[i]])\n",
    "    res = dp_ori - demographic_parity(x_train_new, y_train_new, x_test)\n",
    "    result.append(res)\n"
   ]
  },
  {
   "cell_type": "code",
   "execution_count": 15,
   "metadata": {},
   "outputs": [],
   "source": [
    "clf = eval('LogisticRegression')(input_size=x_train.shape[-1])\n",
    "if isinstance(clf, LogisticRegression):\n",
    "    loss_func = logistic_loss_torch\n"
   ]
  },
  {
   "cell_type": "code",
   "execution_count": 16,
   "metadata": {},
   "outputs": [],
   "source": [
    "del_F_del_theta = del_spd_del_theta(clf, x_test_orig, x_test_scalar, y_test)"
   ]
  },
  {
   "cell_type": "code",
   "execution_count": 17,
   "metadata": {},
   "outputs": [
    {
     "name": "stderr",
     "output_type": "stream",
     "text": [
      "  0%|          | 0/800 [00:00<?, ?it/s]"
     ]
    },
    {
     "name": "stderr",
     "output_type": "stream",
     "text": [
      "100%|██████████| 800/800 [00:05<00:00, 135.64it/s]\n"
     ]
    }
   ],
   "source": [
    "hessian_all_points = get_hessian_all_points(clf, x_train, y_train, loss_func)\n"
   ]
  },
  {
   "cell_type": "code",
   "execution_count": 18,
   "metadata": {},
   "outputs": [
    {
     "name": "stdout",
     "output_type": "stream",
     "text": [
      "(800, 19, 19)\n"
     ]
    }
   ],
   "source": [
    "print(hessian_all_points.shape)"
   ]
  },
  {
   "cell_type": "code",
   "execution_count": 19,
   "metadata": {},
   "outputs": [
    {
     "name": "stdout",
     "output_type": "stream",
     "text": [
      "<class 'numpy.ndarray'>\n",
      "(800, 19)\n"
     ]
    }
   ],
   "source": [
    "del_L_del_theta = get_del_L_del_theta(clf, x_train, y_train, loss_func)\n",
    "print(type(del_L_del_theta))\n",
    "print(del_L_del_theta.shape)"
   ]
  },
  {
   "cell_type": "code",
   "execution_count": 20,
   "metadata": {},
   "outputs": [],
   "source": [
    "hinv_v, hinv = get_hinv_v(hessian_all_points, del_F_del_theta) \n"
   ]
  },
  {
   "cell_type": "code",
   "execution_count": 21,
   "metadata": {},
   "outputs": [
    {
     "name": "stdout",
     "output_type": "stream",
     "text": [
      "(19,)\n"
     ]
    }
   ],
   "source": [
    "print(hinv_v.shape)"
   ]
  },
  {
   "cell_type": "markdown",
   "metadata": {},
   "source": [
    "df/d_epsi = df/d_theta * d_theta/d_epsi\n",
    "\n",
    "d_theta/d_epsi = (1/n)* -H_inv * dL/d_theta \n",
    "\n",
    "df/d_theta = del_F_del_theta"
   ]
  },
  {
   "cell_type": "code",
   "execution_count": 22,
   "metadata": {},
   "outputs": [],
   "source": [
    "hinv_v, hinv = get_hinv_v(hessian_all_points, np.transpose(del_L_del_theta)) \n",
    "# it should be hessian* dL/d_theta \n",
    "# and then it should be multiplied by df/d_theta"
   ]
  },
  {
   "cell_type": "code",
   "execution_count": 23,
   "metadata": {},
   "outputs": [
    {
     "name": "stdout",
     "output_type": "stream",
     "text": [
      "(800,)\n"
     ]
    }
   ],
   "source": [
    "#influence for each data point \n",
    "inf = np.matmul(np.transpose(hinv_v), del_F_del_theta)\n",
    "inf = inf * 0.00125\n",
    "print(inf.shape)"
   ]
  },
  {
   "cell_type": "code",
   "execution_count": 24,
   "metadata": {},
   "outputs": [
    {
     "data": {
      "image/png": "[encoded data removed]",
      "text/plain": [
       "<Figure size 640x480 with 1 Axes>"
      ]
     },
     "metadata": {},
     "output_type": "display_data"
    }
   ],
   "source": [
    "import matplotlib.pyplot as plt\n",
    "fig, ax = plt.subplots()\n",
    "df = pd.DataFrame({'Trained': result, 'Calculated': inf})\n",
    "ax.scatter(df['Trained'], df['Calculated'], marker='o')\n",
    "plt.title('Graph between Trained and Calculated')\n",
    "plt.xlabel('Trained diff in dp for each data point')\n",
    "plt.ylabel('Calculated diff in dp for each data point')\n",
    "plt.grid(True)\n",
    "\n",
    "ax.axline((0, 0), slope=1)\n",
    "plt.show()\n"
   ]
  },
  {
   "cell_type": "code",
   "execution_count": null,
   "metadata": {},
   "outputs": [],
   "source": []
  }
 ],
 "metadata": {
  "kernelspec": {
   "display_name": "influenceGopher",
   "language": "python",
   "name": "python3"
  },
  "language_info": {
   "codemirror_mode": {
    "name": "ipython",
    "version": 3
   },
   "file_extension": ".py",
   "mimetype": "text/x-python",
   "name": "python",
   "nbconvert_exporter": "python",
   "pygments_lexer": "ipython3",
   "version": "3.8.18"
  }
 },
 "nbformat": 4,
 "nbformat_minor": 2
}
