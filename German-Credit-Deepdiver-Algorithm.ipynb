{
 "cells": [
  {
   "cell_type": "markdown",
   "id": "16ab2386",
   "metadata": {},
   "source": [
    "import pandas as pd\n",
    "import re\n",
    "import numpy as np\n",
    "from sklearn.model_selection import train_test_split\n",
    "from sklearn.linear_model import LogisticRegression\n",
    "from sklearn.metrics import accuracy_score, classification_report\n",
    "from collections import Counter, OrderedDict"
   ]
  },
  {
   "cell_type": "code",
   "execution_count": 1,
   "id": "9389daf7",
   "metadata": {},
   "outputs": [],
   "source": [
    "import pandas as pd\n",
    "from sklearn.model_selection import train_test_split\n",
    "from sklearn.linear_model import LogisticRegression\n",
    "from sklearn.metrics import accuracy_score, classification_report\n",
    "import matplotlib.pyplot as plt\n",
    "from collections import OrderedDict"
   ]
  },
  {
   "cell_type": "code",
   "execution_count": 2,
   "id": "a4eb07cd",
   "metadata": {},
   "outputs": [],
   "source": [
    "cols = ['status', 'duration', 'credit_hist', 'purpose', 'credit_amt', 'savings', 'employment', 'installment_rate', 'personal_status', 'debtors', 'residencesince', 'property', 'age', 'install_plans', 'housing', 'existing_credits', 'job', 'maintenance_paying_people', 'telephone', 'foreign_worker', 'result']"
   ]
  },
  {
   "cell_type": "code",
   "execution_count": 3,
   "id": "1a17f7e6",
   "metadata": {},
   "outputs": [],
   "source": [
    "df = pd.read_table('german.data', names=cols, sep=\" \", index_col=False)"
   ]
  },
  {
   "cell_type": "code",
   "execution_count": 4,
   "id": "a4e5c185",
   "metadata": {},
   "outputs": [],
   "source": [
    "def preprocess_german(df): \n",
    "    df['status'] = df['status'].map({'A11': 0, 'A12': 1, 'A13': 2, 'A14': 3}).astype(int)\n",
    "    df['credit_hist'] = df['credit_hist'].map({'A34': 0, 'A33': 1, 'A32': 2, 'A31': 3, 'A30': 4}).astype(int)\n",
    "    df.loc[(df['credit_amt'] <= 2000), 'credit_amt'] = 0\n",
    "    df.loc[(df['credit_amt'] > 2000) & (df['credit_amt'] <= 5000), 'credit_amt'] = 1\n",
    "    df.loc[(df['credit_amt'] > 5000), 'credit_amt'] = 2   \n",
    "    df.loc[(df['duration'] <= 12), 'duration'] = 0\n",
    "    df.loc[(df['duration'] > 12) & (df['duration'] <= 24), 'duration'] = 1\n",
    "    df.loc[(df['duration'] > 24) & (df['duration'] <= 36), 'duration'] = 2\n",
    "    df.loc[(df['duration'] > 36), 'duration'] = 3\n",
    "    df['age'] = df['age'].apply(lambda x : 1 if x >= 45 else 0) # 1 if old, 0 if young\n",
    "    df['savings'] = df['savings'].map({'A61': 0, 'A62': 1, 'A63': 2, 'A64': 3, 'A65': 4}).astype(int)\n",
    "    df['employment'] = df['employment'].map({'A71': 0, 'A72': 1, 'A73': 2, 'A74': 3, 'A75': 4}).astype(int)    \n",
    "    df['gender'] = df['personal_status'].map({'A91': 1, 'A92': 0, 'A93': 1, 'A94': 1, 'A95': 0}).astype(int)\n",
    "    df['debtors'] = df['debtors'].map({'A101': 0, 'A102': 1, 'A103': 2}).astype(int)\n",
    "    df['property'] = df['property'].map({'A121': 3, 'A122': 2, 'A123': 1, 'A124': 0}).astype(int)        \n",
    "    df['install_plans'] = df['install_plans'].map({'A141': 1, 'A142': 1, 'A143': 0}).astype(int)\n",
    "    df['job'] = df['job'].map({'A171': 0, 'A172': 1, 'A173': 2, 'A174': 3}).astype(int)    \n",
    "    df['telephone'] = df['telephone'].map({'A191': 0, 'A192': 1}).astype(int)\n",
    "    df['foreign_worker'] = df['foreign_worker'].map({'A201': 1, 'A202': 0}).astype(int)\n",
    "    pd.get_dummies(df, columns=['purpose', 'housing'], drop_first=True)\n",
    "    \n",
    "    return df\n"
   ]
  },
  {
   "cell_type": "code",
   "execution_count": 5,
   "id": "110be361",
   "metadata": {},
   "outputs": [],
   "source": [
    "X = preprocess_german(df);"
   ]
  },
  {
   "cell_type": "code",
   "execution_count": 6,
   "id": "1bdd558b",
   "metadata": {},
   "outputs": [],
   "source": [
    "df = df.drop([\"purpose\", \"housing\", \"personal_status\", \"result\"], axis=1)"
   ]
  },
  {
   "cell_type": "code",
   "execution_count": 7,
   "id": "d284836f",
   "metadata": {},
   "outputs": [
    {
     "data": {
      "text/html": [
       "<div>\n",
       "<style scoped>\n",
       "    .dataframe tbody tr th:only-of-type {\n",
       "        vertical-align: middle;\n",
       "    }\n",
       "\n",
       "    .dataframe tbody tr th {\n",
       "        vertical-align: top;\n",
       "    }\n",
       "\n",
       "    .dataframe thead th {\n",
       "        text-align: right;\n",
       "    }\n",
       "</style>\n",
       "<table border=\"1\" class=\"dataframe\">\n",
       "  <thead>\n",
       "    <tr style=\"text-align: right;\">\n",
       "      <th></th>\n",
       "      <th>status</th>\n",
       "      <th>duration</th>\n",
       "      <th>credit_hist</th>\n",
       "      <th>credit_amt</th>\n",
       "      <th>savings</th>\n",
       "      <th>employment</th>\n",
       "      <th>installment_rate</th>\n",
       "      <th>debtors</th>\n",
       "      <th>residencesince</th>\n",
       "      <th>property</th>\n",
       "      <th>age</th>\n",
       "      <th>install_plans</th>\n",
       "      <th>existing_credits</th>\n",
       "      <th>job</th>\n",
       "      <th>maintenance_paying_people</th>\n",
       "      <th>telephone</th>\n",
       "      <th>foreign_worker</th>\n",
       "      <th>gender</th>\n",
       "    </tr>\n",
       "  </thead>\n",
       "  <tbody>\n",
       "    <tr>\n",
       "      <th>0</th>\n",
       "      <td>0</td>\n",
       "      <td>0</td>\n",
       "      <td>0</td>\n",
       "      <td>0</td>\n",
       "      <td>4</td>\n",
       "      <td>4</td>\n",
       "      <td>4</td>\n",
       "      <td>0</td>\n",
       "      <td>4</td>\n",
       "      <td>3</td>\n",
       "      <td>1</td>\n",
       "      <td>0</td>\n",
       "      <td>2</td>\n",
       "      <td>2</td>\n",
       "      <td>1</td>\n",
       "      <td>1</td>\n",
       "      <td>1</td>\n",
       "      <td>1</td>\n",
       "    </tr>\n",
       "    <tr>\n",
       "      <th>1</th>\n",
       "      <td>1</td>\n",
       "      <td>3</td>\n",
       "      <td>2</td>\n",
       "      <td>2</td>\n",
       "      <td>0</td>\n",
       "      <td>2</td>\n",
       "      <td>2</td>\n",
       "      <td>0</td>\n",
       "      <td>2</td>\n",
       "      <td>3</td>\n",
       "      <td>0</td>\n",
       "      <td>0</td>\n",
       "      <td>1</td>\n",
       "      <td>2</td>\n",
       "      <td>1</td>\n",
       "      <td>0</td>\n",
       "      <td>1</td>\n",
       "      <td>0</td>\n",
       "    </tr>\n",
       "    <tr>\n",
       "      <th>2</th>\n",
       "      <td>3</td>\n",
       "      <td>0</td>\n",
       "      <td>0</td>\n",
       "      <td>1</td>\n",
       "      <td>0</td>\n",
       "      <td>3</td>\n",
       "      <td>2</td>\n",
       "      <td>0</td>\n",
       "      <td>3</td>\n",
       "      <td>3</td>\n",
       "      <td>1</td>\n",
       "      <td>0</td>\n",
       "      <td>1</td>\n",
       "      <td>1</td>\n",
       "      <td>2</td>\n",
       "      <td>0</td>\n",
       "      <td>1</td>\n",
       "      <td>1</td>\n",
       "    </tr>\n",
       "    <tr>\n",
       "      <th>3</th>\n",
       "      <td>0</td>\n",
       "      <td>3</td>\n",
       "      <td>2</td>\n",
       "      <td>2</td>\n",
       "      <td>0</td>\n",
       "      <td>3</td>\n",
       "      <td>2</td>\n",
       "      <td>2</td>\n",
       "      <td>4</td>\n",
       "      <td>2</td>\n",
       "      <td>1</td>\n",
       "      <td>0</td>\n",
       "      <td>1</td>\n",
       "      <td>2</td>\n",
       "      <td>2</td>\n",
       "      <td>0</td>\n",
       "      <td>1</td>\n",
       "      <td>1</td>\n",
       "    </tr>\n",
       "    <tr>\n",
       "      <th>4</th>\n",
       "      <td>0</td>\n",
       "      <td>1</td>\n",
       "      <td>1</td>\n",
       "      <td>1</td>\n",
       "      <td>0</td>\n",
       "      <td>2</td>\n",
       "      <td>3</td>\n",
       "      <td>0</td>\n",
       "      <td>4</td>\n",
       "      <td>0</td>\n",
       "      <td>1</td>\n",
       "      <td>0</td>\n",
       "      <td>2</td>\n",
       "      <td>2</td>\n",
       "      <td>2</td>\n",
       "      <td>0</td>\n",
       "      <td>1</td>\n",
       "      <td>1</td>\n",
       "    </tr>\n",
       "  </tbody>\n",
       "</table>\n",
       "</div>"
      ],
      "text/plain": [
       "   status  duration  credit_hist  credit_amt  savings  employment  \\\n",
       "0       0         0            0           0        4           4   \n",
       "1       1         3            2           2        0           2   \n",
       "2       3         0            0           1        0           3   \n",
       "3       0         3            2           2        0           3   \n",
       "4       0         1            1           1        0           2   \n",
       "\n",
       "   installment_rate  debtors  residencesince  property  age  install_plans  \\\n",
       "0                 4        0               4         3    1              0   \n",
       "1                 2        0               2         3    0              0   \n",
       "2                 2        0               3         3    1              0   \n",
       "3                 2        2               4         2    1              0   \n",
       "4                 3        0               4         0    1              0   \n",
       "\n",
       "   existing_credits  job  maintenance_paying_people  telephone  \\\n",
       "0                 2    2                          1          1   \n",
       "1                 1    2                          1          0   \n",
       "2                 1    1                          2          0   \n",
       "3                 1    2                          2          0   \n",
       "4                 2    2                          2          0   \n",
       "\n",
       "   foreign_worker  gender  \n",
       "0               1       1  \n",
       "1               1       0  \n",
       "2               1       1  \n",
       "3               1       1  \n",
       "4               1       1  "
      ]
     },
     "execution_count": 7,
     "metadata": {},
     "output_type": "execute_result"
    }
   ],
   "source": [
    "df.head()"
   ]
  },
  {
   "cell_type": "code",
   "execution_count": 8,
   "id": "85ce9bdb",
   "metadata": {},
   "outputs": [],
   "source": [
    "def match_pattern(string1, string2):\n",
    "    if len(string1) == len(string2):\n",
    "        for i in range(len(string1)):\n",
    "            if string1[i].isdigit() and string2[i].isdigit():\n",
    "                if string1[i] != string2[i]:\n",
    "                    return 0\n",
    "        else:\n",
    "            return 1\n",
    "        return 0"
   ]
  },
  {
   "cell_type": "code",
   "execution_count": 9,
   "id": "d4c1253f",
   "metadata": {},
   "outputs": [],
   "source": [
    "def create_patterns(df, threshold):\n",
    "    patterns = ['XXXXXXXXXXXXXXXXXX', \n",
    "                'XXXXXXXXXXXXXXXXX0',\n",
    "                'XXXXXXXXXXXXXXXX00',\n",
    "                'XXXXXXXXXXXXXXXX10', \n",
    "                'XXXXXXXXXXXXXXXXX1', \n",
    "                'XXXXXXXXXXXXXXXX01', \n",
    "                'XXXXXXXXXXXXXXXX11' ]\n",
    "    # Initialize a dictionary to store the pattern counts\n",
    "    pattern_counts = {pattern: 0 for pattern in patterns}\n",
    "\n",
    "    # Iterate through each row of the dataset\n",
    "    for i in range(len(df)):\n",
    "        # Iterate through each pattern\n",
    "        for pattern in patterns:\n",
    "            res = match_pattern(pattern, \"\".join(str(x) for x in df.iloc[i].values.tolist()))\n",
    "            # Increment the count for the pattern if it is found\n",
    "            if res == 1:\n",
    "                pattern_counts[pattern] += 1\n",
    "\n",
    "    # Output the pattern counts\n",
    "    print('Pattern counts:')\n",
    "    for pattern, count in pattern_counts.items():\n",
    "        print(pattern + \": \" + str(count))\n",
    "        \n",
    "    print('\\nUncovered patterns:')\n",
    "    for pattern, count in pattern_counts.items():\n",
    "        if count < threshold:\n",
    "            print(pattern)\n",
    "\n",
    "        "
   ]
  },
  {
   "cell_type": "code",
   "execution_count": 10,
   "id": "9554015f",
   "metadata": {},
   "outputs": [
    {
     "name": "stdout",
     "output_type": "stream",
     "text": [
      "Pattern counts:\n",
      "XXXXXXXXXXXXXXXXXX: 1000\n",
      "XXXXXXXXXXXXXXXXX0: 310\n",
      "XXXXXXXXXXXXXXXX00: 7\n",
      "XXXXXXXXXXXXXXXX10: 303\n",
      "XXXXXXXXXXXXXXXXX1: 690\n",
      "XXXXXXXXXXXXXXXX01: 30\n",
      "XXXXXXXXXXXXXXXX11: 660\n",
      "\n",
      "Uncovered patterns:\n",
      "XXXXXXXXXXXXXXXX00\n",
      "XXXXXXXXXXXXXXXX01\n"
     ]
    }
   ],
   "source": [
    "create_patterns(df, 35);"
   ]
  },
  {
   "cell_type": "code",
   "execution_count": 11,
   "id": "f783d690",
   "metadata": {},
   "outputs": [
    {
     "data": {
      "text/plain": [
       "'000044404310221111'"
      ]
     },
     "execution_count": 11,
     "metadata": {},
     "output_type": "execute_result"
    }
   ],
   "source": [
    "\"\".join(str(x) for x in df.iloc[0].values.tolist())"
   ]
  },
  {
   "cell_type": "code",
   "execution_count": 12,
   "id": "ad5cd4a3",
   "metadata": {},
   "outputs": [
    {
     "name": "stdout",
     "output_type": "stream",
     "text": [
      "1\n"
     ]
    }
   ],
   "source": [
    "res = match_pattern('xxxx0', '11110')\n",
    "print(res)"
   ]
  },
  {
   "cell_type": "code",
   "execution_count": 13,
   "id": "be773274",
   "metadata": {},
   "outputs": [
    {
     "name": "stdout",
     "output_type": "stream",
     "text": [
      "status\n",
      "duration\n",
      "credit_hist\n",
      "credit_amt\n",
      "savings\n",
      "employment\n",
      "installment_rate\n",
      "debtors\n",
      "residencesince\n",
      "property\n",
      "age\n",
      "install_plans\n",
      "existing_credits\n",
      "job\n",
      "maintenance_paying_people\n",
      "telephone\n",
      "foreign_worker\n",
      "gender\n"
     ]
    }
   ],
   "source": [
    "for item in df: \n",
    "    print(item)"
   ]
  },
  {
   "cell_type": "code",
   "execution_count": 14,
   "id": "98d8e936",
   "metadata": {},
   "outputs": [],
   "source": [
    "\n",
    "#Return the inverted index matrix for the dataset\n",
    "def preprocessing(dataset):\n",
    "    \n",
    "    #Get cardinalities out of the dataset\n",
    "    cardinalities = []\n",
    "#     cardinalities = [[0,1],[0,1],[0,1]]\n",
    "    for col in dataset.columns:\n",
    "        cardinalities.append(dataset[col].unique().tolist())\n",
    "\n",
    "    for cardinality in cardinalities:\n",
    "        cardinality.sort()\n",
    "        \n",
    "    num = 1\n",
    "    for cardinality in cardinalities:\n",
    "        num *= len(cardinality)+1\n",
    "        \n",
    "    print('Total number of patterns in the dataset: ',num)\n",
    "\n",
    "\n",
    "    #Get unique value combinations count\n",
    "    dataset_string = []\n",
    "#     dataset_string = ['010','001','000','011','001']\n",
    "    for i in range(len(dataset)):\n",
    "        dataset_string.append(\"\".join(str(x) for x in dataset.iloc[i].values.tolist()))\n",
    "        \n",
    "    counts = OrderedDict()\n",
    "\n",
    "    for item in dataset_string:\n",
    "        counts[item] = counts.get(item, 0) + 1\n",
    "\n",
    "    data_unique_values = list(counts.keys())\n",
    "    data_value_counts = list(counts.values())\n",
    "    \n",
    "    inverted_ind = []\n",
    "    \n",
    "    #create inverted index matrix\n",
    "    for i,cardinality in enumerate(cardinalities):\n",
    "        for cardinality_val in cardinality:\n",
    "            new_row = []\n",
    "            for val in data_unique_values:\n",
    "                if cardinality_val == int(val[i]):\n",
    "                    new_row.append(1)\n",
    "                else:\n",
    "                    new_row.append(0) \n",
    "            inverted_ind.append(new_row)\n",
    "            \n",
    "    return inverted_ind, data_value_counts, cardinalities\n",
    "        \n",
    "\n",
    "def cov(pattern, dataset):  #tested_OK\n",
    "    \"\"\"\n",
    "    Returns the number of instances in the dataset covered by the given pattern.\n",
    "    \"\"\"\n",
    "    count = 0\n",
    "\n",
    "    for i in range(len(dataset)):\n",
    "        res = match_pattern(pattern, \"\".join(str(x) for x in df.iloc[i].values.tolist()))\n",
    "        if res == 1:\n",
    "            count += 1\n",
    "#     print(count)\n",
    "    return count\n",
    "\n",
    "\n",
    "def coverage_optimized(pattern, inverted_ind, data_value_counts, cardinalities):  #invertedindices  #tested_OK for the example given in the research paper\n",
    "\n",
    "    result_and = [1] * len(inverted_ind[0])\n",
    "    row_index = 0\n",
    "    for i,x in enumerate(pattern):\n",
    "        if x!= 'X':\n",
    "            \n",
    "            #find the value x in cardinalities[i]\n",
    "            index = cardinalities[i].index(int(x))\n",
    "            row_index += index\n",
    "            inverted_ind_row = inverted_ind[row_index]\n",
    "            for j in range(len(inverted_ind_row)):\n",
    "                result_and[j] = int(inverted_ind_row[j] and result_and[j])\n",
    "            row_index -= index\n",
    "            row_index += len(cardinalities[i])\n",
    "        else:\n",
    "            row_index += len(cardinalities[i])      \n",
    "\n",
    "    # DOT Product between the above result and the count array for the datapoints\n",
    "    coverage = sum([x*y for x, y in zip(data_value_counts, result_and)])\n",
    "    return coverage\n",
    "    \n",
    "\n",
    "def generate_parent_nodes(pattern):  #tested_OK\n",
    "    \"\"\"\n",
    "    Generates all parent nodes of the given pattern by replacing one deterministic\n",
    "    cell with a wildcard character.\n",
    "    \"\"\"\n",
    "    parents = []\n",
    "    for i in range(len(pattern)):\n",
    "        new_string = pattern[:i] + \"X\" + pattern[i+1:]\n",
    "        if new_string != pattern:\n",
    "            parents.append(new_string)\n",
    "    return parents\n",
    "\n",
    "\n",
    "def generate_nodes(pattern, cardinalities): #tested_OK\n",
    "    \"\"\"\n",
    "    Generates all nodes on the given pattern and cardinalities based on Rule 1.\n",
    "    \"\"\"\n",
    "    \n",
    "    \"\"\"\n",
    "    TODO: Make cardinalities 2D vector, so that it can be traversed to find the children of a pattern\n",
    "    \"\"\"\n",
    "\n",
    "    # Find the index of the right-most deterministic element in the pattern\n",
    "    index = len(pattern) - 1\n",
    "    rm_deter = -1\n",
    "    while index >= 0:\n",
    "        if pattern[index] != 'X':\n",
    "            rm_deter = index\n",
    "            break\n",
    "        index -= 1\n",
    "\n",
    "    candidate_nodes = []\n",
    "    rm_deter += 1\n",
    "    if rm_deter >= 0:\n",
    "        while rm_deter < len(pattern):\n",
    "            index = rm_deter\n",
    "            for value in cardinalities[index]:\n",
    "                candidate_node = pattern\n",
    "                candidate_node = pattern[:index] + str(value) + pattern[index+1:] \n",
    "                candidate_nodes.append(candidate_node)\n",
    "            rm_deter += 1\n",
    "\n",
    "    return candidate_nodes\n",
    "\n",
    "\n",
    "def dominance(pattern, mups):\n",
    "    #iterate through the mups, find if any of the mups is an ancestor for the pattern p return 0\n",
    "    # if pattern p is an ancestor for any of the mups return 1\n",
    "    # else return -1\n",
    "    \n",
    "    for m in mups:\n",
    "        for i,x in enumerate(m):\n",
    "            if m[i] != pattern[i]:\n",
    "                if m[i] == 'X' and pattern[i] != 'X':\n",
    "                    return 0\n",
    "                elif m[i] != 'X' and pattern[i] == 'X':\n",
    "                    return 1\n",
    "    \n",
    "    return -1\n",
    "\n",
    "    \n",
    "def deepdiver(dataset, threshold):\n",
    "    \"\"\"\n",
    "    Finds the maximal uncovered patterns in the dataset.\n",
    "    \"\"\" \n",
    "    inverted_index, unique_value_counts, cardinalities = preprocessing(dataset);\n",
    "\n",
    "    stack = ['XXXXXXXXXXXXXXXXXX']\n",
    "    maximal_uncovered = []\n",
    "    while stack:\n",
    "        pattern = stack.pop()\n",
    "        uncovered_flag = False\n",
    "        if dominance(pattern, maximal_uncovered) == 0:\n",
    "            continue\n",
    "        elif dominance(pattern, maximal_uncovered) == 1:\n",
    "            uncovered_flag = False\n",
    "        else: \n",
    "            count = coverage_optimized(pattern, inverted_index, unique_value_counts, cardinalities)\n",
    "            if count < threshold:\n",
    "                uncovered_flag = True\n",
    "        if uncovered_flag:\n",
    "            stack0 = []\n",
    "            stack0.append(pattern)\n",
    "            while stack0:\n",
    "                pattern0 = stack0.pop()\n",
    "                parent_nodes = generate_parent_nodes(pattern0)\n",
    "                for p in parent_nodes:\n",
    "                    count0 = coverage_optimized(p, inverted_index, unique_value_counts, cardinalities )\n",
    "                    if count0 < threshold:\n",
    "                        stack0.append(p)\n",
    "                        break                   \n",
    "                maximal_uncovered.append(pattern)\n",
    "        else:\n",
    "            stack.extend(generate_nodes(pattern, cardinalities))\n",
    "            \n",
    "    print('MUPs are: ', maximal_uncovered)\n",
    "    return maximal_uncovered\n"
   ]
  },
  {
   "cell_type": "code",
   "execution_count": 15,
   "id": "80b18452",
   "metadata": {},
   "outputs": [],
   "source": [
    "#     #MUPs\n",
    "#     print('MUP coverage')\n",
    "#     print(coverage_optimized('XXXXXXXXXXXXXXX101', inverted_index, unique_value_counts, cardinalities))\n",
    "#     print(coverage_optimized('XXXXXXXXXXXXXXX100', inverted_index, unique_value_counts, cardinalities))\n",
    "    \n",
    "#     #MUP Parents\n",
    "#     print('MUP Parents coverage')\n",
    "#     print(coverage_optimized('XXXXXXXXXXXXXXXX01', inverted_index, unique_value_counts, cardinalities))\n",
    "#     print(coverage_optimized('XXXXXXXXXXXXXXXX00', inverted_index, unique_value_counts, cardinalities))\n",
    "#     print(coverage_optimized('XXXXXXXXXXXXXXX1X1', inverted_index, unique_value_counts, cardinalities))\n",
    "#     print(coverage_optimized('XXXXXXXXXXXXXXX1X0', inverted_index, unique_value_counts, cardinalities))\n",
    "    \n",
    "#     #MUP Children\n",
    "#     print('MUP children coverage')\n",
    "#     print(coverage_optimized('X0XXXXXXXXXXXXX101', inverted_index, unique_value_counts, cardinalities))\n",
    "#     print(coverage_optimized('X01XXXXXXXXXXXX100', inverted_index, unique_value_counts, cardinalities))\n",
    "#     print(coverage_optimized('3XXXXXXXXXXXXXX101', inverted_index, unique_value_counts, cardinalities))\n",
    "#     print(coverage_optimized('2XXXXXXXXXXXXXX100', inverted_index, unique_value_counts, cardinalities))"
   ]
  },
  {
   "cell_type": "code",
   "execution_count": 16,
   "id": "b2751162",
   "metadata": {},
   "outputs": [
    {
     "name": "stdout",
     "output_type": "stream",
     "text": [
      "Total number of patterns in the dataset:  196830000000\n",
      "140\n"
     ]
    }
   ],
   "source": [
    "inv, d, cardinalities = preprocessing(df)\n",
    "print(coverage_optimized('3XXXXXXXXXXX1XXX11',inv,d,cardinalities))\n"
   ]
  },
  {
   "cell_type": "code",
   "execution_count": 17,
   "id": "c33f3f24",
   "metadata": {},
   "outputs": [],
   "source": [
    "# df1 = [[0,1,0],[0,0,1],[0,0,0],[0,1,1],[0,0,1]]\n",
    "# deepdiver(df1, 1)"
   ]
  },
  {
   "cell_type": "code",
   "execution_count": 30,
   "id": "1e2217f3",
   "metadata": {},
   "outputs": [
    {
     "name": "stdout",
     "output_type": "stream",
     "text": [
      "Total number of patterns in the dataset:  196830000000\n",
      "MUPs are:  ['XXXXXXXXXXXXXXX10X']\n"
     ]
    },
    {
     "data": {
      "text/plain": [
       "['XXXXXXXXXXXXXXX10X']"
      ]
     },
     "execution_count": 30,
     "metadata": {},
     "output_type": "execute_result"
    }
   ],
   "source": [
    "deepdiver(df, 7)"
   ]
  },
  {
   "cell_type": "code",
   "execution_count": 19,
   "id": "81e2b682",
   "metadata": {},
   "outputs": [],
   "source": [
    "def getStringsMatchingWithPattern(pattern, df):\n",
    "    \n",
    "    \n",
    "    #Get unique value combinations count\n",
    "    dataset_string = []\n",
    "    for i in range(len(df)):\n",
    "        dataset_string.append(\"\".join(str(x) for x in df.iloc[i].values.tolist()))\n",
    "        \n",
    "    \n",
    "    strings = []\n",
    "    flag = True\n",
    "    for s in dataset_string:\n",
    "        flag = True\n",
    "        for i,x in enumerate(s):\n",
    "            if x != pattern[i]:\n",
    "                if pattern[i] != 'X':\n",
    "#                     print('string:',s[i])\n",
    "#                     print('string:',pattern[i])\n",
    "                    flag = False\n",
    "                    \n",
    "        if flag:\n",
    "            strings.append(s)\n",
    "            \n",
    "    print(len(strings))       \n",
    "    return strings\n",
    "        \n",
    "            "
   ]
  },
  {
   "cell_type": "code",
   "execution_count": 20,
   "id": "931a4ecb",
   "metadata": {},
   "outputs": [
    {
     "name": "stdout",
     "output_type": "stream",
     "text": [
      "3\n",
      "['302002104200121101', '012204104210131101', '302002202300121101']\n"
     ]
    }
   ],
   "source": [
    "print(getStringsMatchingWithPattern('XXXXXXXXXXXXXXX101', df))"
   ]
  },
  {
   "cell_type": "code",
   "execution_count": 21,
   "id": "edd988d5",
   "metadata": {},
   "outputs": [
    {
     "name": "stdout",
     "output_type": "stream",
     "text": [
      "2\n",
      "['012241102200121100', '134202102201131100']\n"
     ]
    }
   ],
   "source": [
    "print(getStringsMatchingWithPattern( 'XXXXXXXXXXXXXXX100', df))"
   ]
  },
  {
   "cell_type": "code",
   "execution_count": 22,
   "id": "2c6495eb",
   "metadata": {},
   "outputs": [
    {
     "name": "stdout",
     "output_type": "stream",
     "text": [
      "37\n",
      "['000101103310212001', '300142201100221001', '012241102200121100', '000141213300221000', '202031202300101001', '302002104200121101', '000014324310222001', '102002422300121001', '302033302210121001', '304012401001121001', '300004304300212001', '012204104210131101', '312143403200121001', '302002202300121101', '302044412210111001', '202041102300112001', '000103104300211001', '102002102100121000', '012001402300121001', '302022302000112001', '302012302300111001', '000102302300212001', '000003403200221000', '000001204300112001', '013102124101121000', '102003423300221001', '200002101310302001', '102001303300111001', '010102422201221001', '302112122300122001', '200004104310222001', '000102404201211001', '300033302200121000', '012143212300111001', '134202102201131100', '012001411200111001', '302002302300112001']\n"
     ]
    }
   ],
   "source": [
    "print(getStringsMatchingWithPattern( 'XXXXXXXXXXXXXXXX0X', df))"
   ]
  },
  {
   "cell_type": "code",
   "execution_count": 23,
   "id": "3ca37c0d",
   "metadata": {},
   "outputs": [
    {
     "name": "stdout",
     "output_type": "stream",
     "text": [
      "963\n",
      "['000044404310221111', '132202202300121010', '300103203310112011', '032203224210122011', '011102304010222011', '322242204000112111', '312124304210121011', '122202202100131111', '302133204310111011', '120200402100231011', '102001301100121010', '032101304200121010', '102002101100121110', '010004404110211011', '012002204100121010', '012012402100111010', '310144404210221011', '024241203101321011', '112204402000131110', '312124302100122111', '300102404110321111', '002122203300122011', '100011304200121011', '002002102301111111', '304004404100111011', '203032303300221010', '102102322300121011', '031204304010221111', '112031303301121111', '012102202101121011', '112212202100221111', '300044404010111011', '202001401201131110', '130101402200211011', '330202103001121111', '212102412301121011', '202002202100121111', '102002403300121011', '322124402101131011', '102022301100121111', '111202204300112111', '020213104100221011', '030204404011211010', '300001404100231010', '322124404100121011', '002020102200101110', '300202104200211011', '302112412300121010', '111141402201111011', '121204102100231111', '302002302100121011', '312142201200121111', '121104404011221111', '303042122301112011', '102240201010131111', '320202202101221010', '212004302100131010', '020201414000211110', '102002201301121111', '110044424310221111', '124004404010131111', '134202202100121111', '312101404200121110', '322244404210422111', '302101202101121010', '102032401300121011', '322002404001121111', '322142404100121010', '322202102201121010', '300044402210211111', '000004304011232111', '130203201301211010', '022044404000131111', '000004404010231011', '032101403100121011', '101103204210121011', '334242202200112011', '122101201200121011', '312241101100221110', '312024403211121111', '312012304200111010', '012004424310111110', '002104304310111011', '300002422300231110', '110001401200221010', '122212104010122111', '012113403100132111', '004003403300221011', '300004404310121011', '000004403310121011', '300044403201112010', '210144414000221011', '102034404310121111', '134201304010121111', '300143402110121010', '112112404100121011', '120104404300121011', '111243304201232111', '312014404300111011', '122103404100121011', '301002302300121010', '100003403100121111', '302141204100121111', '110202213100232111', '313204204001232111', '102203202100121011', '112024102300121111', '101014102101222011', '212001404200121110', '112203303300111011', '320202402301221110', '002024301300121011', '330144401310121111', '032243403100131110', '020122104100221010', '100123303100131111', '012002302300221110', '310104402100231110', '302002302300111011', '200004404010221111', '112041403300121010', '000102402200221011', '002002402300111011', '102002402100121011', '100000402100231111', '000102312300221010', '132243102100121010', '021202403201121111', '312101203201211011', '312002404011221011', '332213204300121110', '300044402300221110', '321232202100221011', '102022403310111011', '110143422301321111', '202002202100111110', '122101401000131110', '022102302100131011', '012102202100121011', '310101404200121110', '133113402100121011', '000004104000221110', '300013403110221110', '020202322200221011', '310034404110221011', '302014204001122111', '222202401100121011', '110234204000121010', '111213404100131111', '002002204100121010', '003004401111111011', '112113203101221111', '300042102300212011', '310114304300122111', '310001401200221010', '312023403200221111', '102200204011131111', '322024404200121011', '302122102100121111', '012000402100121010', '102031401300121010', '312103204200121110', '110004404300221111', '014004403100222011', '302002401300121110', '111100302200131110', '011101201200221011', '323240401311131110', '002102201100121011', '000024404110221011', '302003402100232111', '010004404310221011', '321201101100221011', '121102202301231111', '013042402200212011', '310132404310121111', '110004404101122111', '310002402200221011', '103204204011132110', '110000203110301111', '002013401200121011', '114102104101221110', '312132203210331111', '134113404000112011', '122102402100122111', '302103202300121011', '132112424200121011', '100004203100231110', '300002101100221110', '102011404101421010', '112144404001121111', '111104403000131111', '300024402110221111', '002002403300111011', '321203304100221011', '002003404200121011', '300004401300212011', '020204304000332111', '300004404300321111', '100003403200121011', '012202202101111011', '300142102300222011', '322144204310111110', '024200204211221111', '221004404310131111', '320144402110121111', '100043103200211010', '014103301201121111', '222102202300121111', '012102202300111011', '302002204110121110', '102001421301111011', '002042404201121110', '302002402301221011', '311142404300222111', '312102302100121111', '324102402100221011', '132233112001221111', '002204404010131111', '302003402100121011', '012101401001121011', '222102402100121011', '302124204010111011', '302113301000121011', '112002422300111011', '300003201300312011', '012000402101132011', '102240102200101111', '112114402111211011', '300002402200221010', '022104123200122011', '012044402101121010', '302003302210122011', '034104304000222011', '300002302300221010', '303122403300112010', '312003401300121111', '300004404310321011', '212002202300121011', '312000314300121010', '000033304300211110', '202102102110111010', '122102422001121010', '311112203200221011', '102143201100121111', '131242101300111011', '310102402300211011', '003102401000121011', '312111104100121110', '300010404310311010', '002002202300121011', '012004404110121010', '010204204000331111', '300104204011311010', '112004403100122011', '320244404300221011', '312001403101121110', '312044402100221011', '300023304100121110', '133240414000131111', '132103404300221011', '022201101000111111', '302102102300122011', '310102202100221010', '002044204210111111', '302101104200121010', '312012404100131111', '310134304000221111', '302002402310121011', '213043404111111011', '310044404210121011', '110111402100121111', '032201101300111110', '032103403200122011', '131210204000131111', '102002424310221110', '011001404311121011', '122201104100131111', '010204204000232110', '230104404010121011', '330244402111232011', '132201102100121110', '302141104100121010', '312102304300121111', '110133302100221111', '302000104310101110', '124102401100121110', '210043402301212011', '000003413210221111', '330222202001121011', '302032402300121011', '322143204201111010', '002011403000111111', '102002304300121010', '102002404300111011', '132240304001101111', '312212401101121011', '212101204100121010', '102003203101111011', '023104404101121011', '002002223200112011', '112142104210111110', '300002402100221011', '011104104200211010', '120100402100231011', '012001403200121011', '012103201000131111', '012132402100121011', '310002403300221010', '300244204210121111', '312033403100122110', '222104402100121011', '102004404100122011', '010200204010231111', '310012402300221010', '132211402200131010', '330212204101211010', '014104304001222011', '000102104300131111', '112101224200111010', '012042402100121010', '012102404200121011', '102002402100111011', '110201204000221110', '012103104100111010', '112121103300121011', '112104111301131111', '202101121200112011', '310002402100111010', '110001424300221011', '112120104000101010', '301012102300211011', '100034403000222011', '302001104300121110', '310140204000131111', '004202402200221111', '302024404010121111', '112001402301111011', '300144114310121111', '321102402100231111', '302002402300121011', '022103404300121010', '112042404010121011', '202144203100131011', '201102202101221110', '302002102200121011', '012100401100101011', '302003204100121111', '310103301100221011', '012101104100121010', '022104402100122011', '112103204300121010', '322142404300121011', '310204304100221111', '300101103300221010', '330244204011131111', '133214304011231110', '033203224100121010', '311100203300221011', '301044304000121011', '122204402010131111', '300012404110211010', '012143404100121111', '112200304000131110', '312043404200121010', '202001401300121011', '321112202200211011', '310102201100221010', '312041402300121110', '110200404201231111', '110122204101121011', '302003302100221010', '312002202200131111', '102031104300111010', '022103204001132111', '000003104100121010', '300100203100131011', '131213203000121111', '002100304010131010', '020102302210221111', '102004101310221011', '310032401300211010', '312001304300121111', '110042404301221011', '311201202101221111', '311002402100211011', '111144404100122011', '112101101200121111', '310143404100222111', '312124302100131111', '200023402300321111', '112004404100121110', '320203302100231111', '300100402101231111', '012042402200121010', '320204202200222111', '002101401300112011', '011242102100221110', '312123102101131010', '112042402200121010', '312133203100121010', '102142402100121011', '100003203310212011', '311013403300231011', '102144102201121110', '112102103100121111', '320104402100221011', '310032403310221011', '302004104100121011', '010000204010302010', '302103104310111011', '112202213101231111', '000000404000331111', '310102402300221111', '002102302300121011', '102042201300121111', '302023204300111011', '310034404300221110', '030100414110201011', '203001401300101010', '302004404100131111', '002002213200121010', '111102203101221111', '302004404101112011', '130202203100131110', '300044404200211010', '022001404100121110', '102102222300121011', '202044304310131110', '111032303211221011', '320242402100131111', '302002301300121010', '304104204200221011', '312104404100131111', '012103213200121111', '312101401000131110', '000102202300222011', '002104304000121111', '002001401300121010', '312101302100121111', '022102122200122011', '012001203300121011', '102101301300131010', '102044404200221011', '312003401101221111', '012102324011122111', '011001402100111110', '331244303101222011', '321102202100221110', '311103303100211111', '112111302100121111', '002001404200121010', '002002403100111011', '302040404200132111', '110002402100121011', '014101104200121010', '332122404100121011', '212203402101121011', '102013304300111011', '010004404100222111', '100102101300111010', '112001401200121011', '022134404210221110', '311033302200221010', '300022404300121111', '101000404210131111', '302102204110121111', '312104414010121110', '302102223200121011', '300004202000221011', '124204204000231110', '300012101200221010', '102044404200121011', '012142204100121011', '122211411000131111', '310003403200221011', '112004422300111011', '200014204100222111', '012101401200121010', '022204204000122011', '202014204310121011', '110011404001222011', '012001404200121010', '302042424200111011', '210122202100121111', '113210102200132111', '312002402200121011', '332214402110131111', '002003402300121011', '322102202000131111', '212103204200121111', '101002414300221011', '312141401210121011', '320201204200221110', '002014302200121111', '300044404000221011', '310204304000221011', '012102202300121010', '034202304010222011', '312113304100121010', '112002424300112010', '122201203100221011', '310012403100121010', '300003201300212011', '022102404100121011', '002001304300112111', '122103301100222011', '112112204100221110', '301002404300121011', '312013403200121111', '312141402100221011', '210101201100121011', '002040403210131110', '110104304200121110', '032204404001131011', '212101101211111010', '102001101300121011', '311104404010221111', '022244404200121011', '212102201300112011', '300004404310211011', '011000402300222011', '310102404100121110', '312003301101122011', '003002404301111010', '330243201000221111', '300043404300221010', '303024204211112011', '032203121300221111', '100011401100121011', '102003404210231110', '102001201101121011', '114111303100221010', '314242104201221110', '013103304101121011', '110001202300211011', '012144404011122111', '013003424101111011', '201001201201121010', '122242104000121111', '111142402201231111', '111013302200221110', '002003203100121011', '310134202100121011', '132143401100222111', '032202302100121110', '012101404300111110', '320203312100121011', '312240204200131110', '012002404200111010', '102004404100211011', '310103213101221010', '102103201300121010', '310042302100221110', '120101404100221011', '312001403100211011', '110004323301221011', '100101103311212011', '302002402300121010', '122101401000111011', '302144404010131110', '012102104301121010', '000102202300222011', '002002421200111011', '012002403310111111', '000104303210221011', '000003403310411110', '111042404100221110', '312034404301111010', '112102304200111110', '013044403101131111', '103011101201111010', '012003404100221010', '114102104300311111', '310103202201221011', '311102102000121011', '102101121310121010', '102002401200121010', '113003404001111010', '322102402100131110', '202001402200121010', '013122404301121111', '310102302310131111', '122112414010121010', '312101401300121011', '312044404011122011', '002010403200121010', '202014104010112010', '012131402101121010', '311003401300121010', '134242202111131111', '131242202000131011', '000102103300322011', '122112214100121010', '302002402310111011', '110103203200221011', '310002302201221011', '332142402301121011', '002001401100121010', '012102404010221011', '312044402100121011', '202102202300121111', '103013203000121011', '330122404300221111', '302144104310111011', '012102204100121010', '013002403101121011', '112041401200121011', '302001212100221010', '112001304100111110', '302004404211322111', '312023401100121010', '331203204100221111', '302001403100122010', '031103302201222111', '012000401300101010', '112004404100211011', '312112302200131111', '310003422100221111', '010003401200231111', '321241404100221111', '024102222300221011', '302022202200121010', '212003403001122011', '002002404100112011', '032203401010131111', '102002402200111011', '012104411310121011', '121214204100431111', '310103403100221111', '012100104000121011', '102004404101112011', '332243403101121111', '124102201100221010', '110204201000121111', '202002304300121011', '002042402100121011', '312104402310221011', '101000401201231111', '200002204210111010', '310200412001231111', '123132402101122111', '333102101301121010', '000104314200221111', '220104404210121011', '310112303200211111', '322213202100221111', '332204204200131111', '300122102100121011', '311121402301112011', '320103404100131110', '310204404100121111', '132212202100121011', '012104404311111011', '312001301300121010', '302001102010121010', '302142404000121111', '311002403301221011', '310201303010321111', '121213103200212111', '332242404000122111', '200043402200221111', '121114403000121011', '302114314100121111', '002132103200122011', '010002203200221011', '112112302300111010', '112111201100121011', '000141103300212011', '312103402100121111', '302022204210121011', '300000102200101010', '310002402100221011', '212004404100131111', '302022404100111010', '030204404010221111', '212014402010121110', '121114402201221011', '122101401200122110', '312224104000121010', '132213302200121011', '104101403200221010', '102004404300121010', '102102202300112011', '310024403201231111', '003004404000121010', '312144404310131111', '000002404300211011', '132203402000131111', '320244104110221011', '320144302100222111', '312002402000131111', '210142302100221111', '114214304101221111', '204001402100231111', '103031402201122010', '002002402300111010', '102022403310111010', '322102303300121010', '300032202301211010', '310022202210211011', '012002404101221010', '133204403010121010', '210032204300221111', '111201102100121011', '012002204300112011', '102003422300111010', '312132204100121110', '300103101300122010', '123141302001101010', '112202104100231010', '012112304100112111', '300203103010232111', '124112404100211010', '013113203101121011', '103002404301111011', '312144403200121111', '013122404301121111', '030243404200231111', '010001301201211011', '012100104100121010', '002001301300111010', '312242103100121011', '312103202100121011', '002004201211121110', '012001102100111010', '102013204300111010', '320203402100221010', '301034404010222011', '012043404000121010', '210042304000221111', '312002222300121111', '000004403200221011', '310244104110121110', '010102404300221010', '002102403200111011', '310244404000131111', '310113403200221111', '102004323301211011', '022101204200111011', '302141104300121010', '100104104100321111', '300004204310211111', '012144204300121010', '020202302000231110', '310104104100131111', '310114404211221011', '200020204011301011', '012042404300121010', '320103404100221111', '012103421300121010', '320234402100231111', '112100204110121110', '130103222300221011', '310034404310121111', '104002202300111111', '102011402201111010', '112240104310131111', '112032402200111111', '312124304100121011', '330144403100222111', '131204404010121011', '030202403001121111', '112004204200122010', '312244304100132111', '300042102200221011', '212104304010121011', '312124403000121111', '302111204200121010', '012244104210122111', '300001204200211010', '311044404110221111', '102041402300101011', '310004404010222011', '110004324311211110', '010104104200221010', '300044404100221011', '102240102300101010', '022203201100121111', '300044404310421011', '133200102011131111', '114001201300201010', '102001302300121111', '102003323301111011', '020203404100221111', '032102304110121011', '032103404010122011', '121202202210121010', '302022104310121011', '300003102100221110', '022200213100131011', '012002403301121011', '302002302300221111', '202102301100121011', '022104202201122011', '000004404310211011', '310101302100231111', '010004403100221111', '010104104301321110', '314102202101222011', '022244304010121011', '131242404000122111', '311122402100222111', '012001403100121110', '034204204100221011', '112244204100121110', '212101203300111010', '004002404111221011', '302042402100121010', '302001103300112010', '010104404210221111', '310104413310221011', '022203402200121011', '311102302301211011', '312001404300121010', '313003404111121111', '312104404211322111', '112143203100121111', '312242204110221011', '312001402300121011', '002003304310121011', '002004404311111011', '310143304200221111', '310002404000221111', '013003404000212011', '321204202110222111', '312011403300121111', '302043403200121110', '310102402000121111', '012102302200121110', '310232402300221011', '311102402100121111', '012101404300121110', '320131402301212111', '302102202301111011', '312122204100121010', '012101401101121010', '300104204201121011', '322244302200221011', '002004404200121010', '321223204100221110', '010013401300221111', '312041401300121010', '002102212200112011', '100032404100221010', '013001314001131111', '322104402100121011', '002001302000131111', '320243203200221011', '312203303100131111', '312242204010121111', '120144404300221011', '310000404110201010', '112103303100121111', '002001404210121010', '110143403000222111', '132202202100121111', '320204404100231111', '323241324301222111', '020104404101432111', '310004404110221111', '120202304100221111', '310042403200221111', '321243302101132111', '012101404200131110', '312143104301111010', '012102213100121011', '010104224201121111', '310141204300221111', '320244204000221011', '312042402300121111', '312004401300131111', '002002202300132111', '122142202100121011', '311101102210211010', '102142102300111010', '321102404300221010', '110101204101111010', '122144204100121010', '302134102300121111', '013102402200121111', '302112112300122011', '002204104011131111', '012110101200121011', '012104402200131111', '310002402000221010', '331223401100131111', '002001304200121010', '102103304200122111', '013201201211121111', '003001402111221111', '010001404200121010', '032203404001322111', '322044404110121111', '001002402300212011', '102001402100121110', '300002301300221011', '300024404200222111', '002002401101121010', '121011403001231011', '202002302300111010', '102101403100131111', '132202404000121011', '310242204210232111', '302141203210132111', '312043402101121111', '300003201300312011', '012001421210121010', '134221101100221010', '013121404000122111', '302140404000131111', '312001411200112011', '312114204100221011', '110100303100302111', '021103201100221111', '112121304100121010', '322200402100231110', '002002424200121110', '010034404210231110', '220144404211211011', '100004204300311011', '022102302110111011', '112114404000121011', '300004202300221011', '111102104210221011', '312142302000121011', '312124302101221111', '102001301200111011', '122042401100121010', '120122402200211011', '312104402111131110', '332243204200121111', '000102102300212011', '112012422300121011', '312202104200112011', '013000114000201010', '032204414000121011', '320102402100121110', '212022303110111010', '102002223310121010', '111144402200221011', '311104404110212011', '113012202200121011', '120203202210121011', '332100302101131111', '212112101101131110', '022202202200122011', '310103202200211011', '010002403200221010', '234201201200221011', '312010204310121010', '012200402000131111', '110004402210211011', '300141201200212011', '313014404101112011', '012043204100211011', '022100403200131111', '302144403110121111', '302003304300111010', '022102404200131111', '302004404100121011', '032002404000121111', '130110304100121011']\n"
     ]
    }
   ],
   "source": [
    "print(getStringsMatchingWithPattern( 'XXXXXXXXXXXXXXXX1X', df))"
   ]
  },
  {
   "cell_type": "code",
   "execution_count": null,
   "id": "5b0c4caa",
   "metadata": {},
   "outputs": [],
   "source": []
  }
 ],
 "metadata": {
  "kernelspec": {
   "display_name": "Python 3 (ipykernel)",
   "language": "python",
   "name": "python3"
  },
  "language_info": {
   "codemirror_mode": {
    "name": "ipython",
    "version": 3
   },
   "file_extension": ".py",
   "mimetype": "text/x-python",
   "name": "python",
   "nbconvert_exporter": "python",
   "pygments_lexer": "ipython3",
   "version": "3.10.7"
  }
 },
 "nbformat": 4,
 "nbformat_minor": 5
}
