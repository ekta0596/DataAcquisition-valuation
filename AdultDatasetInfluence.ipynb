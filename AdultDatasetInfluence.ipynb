{
 "cells": [
  {
   "cell_type": "code",
   "execution_count": 1,
   "metadata": {},
   "outputs": [],
   "source": [
    "import pandas as pd \n",
    "from sklearn.model_selection import train_test_split\n",
    "from sklearn.linear_model import LogisticRegression\n",
    "from sklearn.neighbors import KNeighborsClassifier\n",
    "from sklearn.metrics import accuracy_score, classification_report\n",
    "from sklearn.preprocessing import LabelEncoder\n",
    "from sklearn.preprocessing import StandardScaler\n",
    "import numpy as np\n",
    "from hessians_calc import *\n",
    "from demo_parity_calc import *\n",
    "import copy"
   ]
  },
  {
   "cell_type": "code",
   "execution_count": 2,
   "metadata": {},
   "outputs": [],
   "source": [
    "cols = ['age', 'workclass', 'fnlwgt', 'education', 'education.num', 'marital', 'occupation','relationship', 'race', 'gender', 'capgain', 'caploss', 'hours', 'country', 'income']"
   ]
  },
  {
   "cell_type": "code",
   "execution_count": 3,
   "metadata": {},
   "outputs": [],
   "source": [
    "def process_adult(df):\n",
    "    # replace missing values (?) to nan and then drop the columns\n",
    "    df['country'] = df['country'].replace(' ?',np.nan)\n",
    "    df['workclass'] = df['workclass'].replace(' ?',np.nan)\n",
    "    df['occupation'] = df['occupation'].replace(' ?',np.nan)\n",
    "    # dropping the NaN rows now\n",
    "    df.dropna(how='any',inplace=True)\n",
    "    df['income'] = df['income'].map({' <=50K': 0, ' >50K': 1}).astype(int)\n",
    "    df['age'] = df['age'].apply(lambda x : 1 if x >= 45 else 0) # 1 if old, 0 if young\n",
    "    df['workclass'] = df['workclass'].map({' Never-worked': 0, ' Without-pay': 1, ' State-gov': 2, ' Local-gov': 3, ' Federal-gov': 4, ' Self-emp-inc': 5, ' Self-emp-not-inc': 6, ' Private': 7}).astype(int)\n",
    "    df['education'] = df['education'].map({' Preschool': 0, ' 1st-4th': 1, ' 5th-6th': 2, ' 7th-8th': 3, ' 9th': 4, ' 10th': 5, ' 11th': 6, ' 12th': 7, ' HS-grad':8, ' Some-college': 9, ' Bachelors': 10, ' Prof-school': 11, ' Assoc-acdm': 12, ' Assoc-voc': 13, ' Masters': 14, ' Doctorate': 15}).astype(int)\n",
    "    df['marital'] = df['marital'].map({' Married-civ-spouse': 2, ' Divorced': 1, ' Never-married': 0, ' Separated': 1, ' Widowed': 1, ' Married-spouse-absent': 2, ' Married-AF-spouse': 2}).astype(int)\n",
    "    df['relationship'] = df['relationship'].map({' Wife': 1 , ' Own-child': 0 , ' Husband': 1, ' Not-in-family': 0, ' Other-relative': 0, ' Unmarried': 0}).astype(int)\n",
    "    df['race'] = df['race'].map({' White': 1, ' Asian-Pac-Islander': 0, ' Amer-Indian-Eskimo': 0, ' Other': 0, ' Black': 0}).astype(int)\n",
    "    df['gender'] = df['gender'].map({' Male': 1, ' Female': 0}).astype(int)\n",
    "    # process hours\n",
    "    df.loc[(df['hours'] <= 40), 'hours'] = 0\n",
    "    df.loc[(df['hours'] > 40), 'hours'] = 1\n",
    "    df = df.drop(columns=['fnlwgt', 'education.num', 'occupation', 'country', 'capgain', 'caploss'])\n",
    "    df = df.reset_index(drop=True)\n",
    "    return df\n"
   ]
  },
  {
   "cell_type": "code",
   "execution_count": 4,
   "metadata": {},
   "outputs": [],
   "source": [
    "df_train = pd.read_csv('adult.data', names = cols, sep=\",\")\n"
   ]
  },
  {
   "cell_type": "code",
   "execution_count": 45,
   "metadata": {},
   "outputs": [
    {
     "data": {
      "text/plain": [
       "271458"
      ]
     },
     "execution_count": 45,
     "metadata": {},
     "output_type": "execute_result"
    }
   ],
   "source": [
    "df_train.size"
   ]
  },
  {
   "cell_type": "code",
   "execution_count": 5,
   "metadata": {},
   "outputs": [],
   "source": [
    "df_test = pd.read_csv('adult.test', names = cols, sep = \",\")"
   ]
  },
  {
   "cell_type": "code",
   "execution_count": 6,
   "metadata": {},
   "outputs": [
    {
     "data": {
      "text/html": [
       "<div>\n",
       "<style scoped>\n",
       "    .dataframe tbody tr th:only-of-type {\n",
       "        vertical-align: middle;\n",
       "    }\n",
       "\n",
       "    .dataframe tbody tr th {\n",
       "        vertical-align: top;\n",
       "    }\n",
       "\n",
       "    .dataframe thead th {\n",
       "        text-align: right;\n",
       "    }\n",
       "</style>\n",
       "<table border=\"1\" class=\"dataframe\">\n",
       "  <thead>\n",
       "    <tr style=\"text-align: right;\">\n",
       "      <th></th>\n",
       "      <th>age</th>\n",
       "      <th>workclass</th>\n",
       "      <th>fnlwgt</th>\n",
       "      <th>education</th>\n",
       "      <th>education.num</th>\n",
       "      <th>marital</th>\n",
       "      <th>occupation</th>\n",
       "      <th>relationship</th>\n",
       "      <th>race</th>\n",
       "      <th>gender</th>\n",
       "      <th>capgain</th>\n",
       "      <th>caploss</th>\n",
       "      <th>hours</th>\n",
       "      <th>country</th>\n",
       "      <th>income</th>\n",
       "    </tr>\n",
       "  </thead>\n",
       "  <tbody>\n",
       "    <tr>\n",
       "      <th>0</th>\n",
       "      <td>39</td>\n",
       "      <td>State-gov</td>\n",
       "      <td>77516</td>\n",
       "      <td>Bachelors</td>\n",
       "      <td>13</td>\n",
       "      <td>Never-married</td>\n",
       "      <td>Adm-clerical</td>\n",
       "      <td>Not-in-family</td>\n",
       "      <td>White</td>\n",
       "      <td>Male</td>\n",
       "      <td>2174</td>\n",
       "      <td>0</td>\n",
       "      <td>40</td>\n",
       "      <td>United-States</td>\n",
       "      <td>&lt;=50K</td>\n",
       "    </tr>\n",
       "    <tr>\n",
       "      <th>1</th>\n",
       "      <td>50</td>\n",
       "      <td>Self-emp-not-inc</td>\n",
       "      <td>83311</td>\n",
       "      <td>Bachelors</td>\n",
       "      <td>13</td>\n",
       "      <td>Married-civ-spouse</td>\n",
       "      <td>Exec-managerial</td>\n",
       "      <td>Husband</td>\n",
       "      <td>White</td>\n",
       "      <td>Male</td>\n",
       "      <td>0</td>\n",
       "      <td>0</td>\n",
       "      <td>13</td>\n",
       "      <td>United-States</td>\n",
       "      <td>&lt;=50K</td>\n",
       "    </tr>\n",
       "    <tr>\n",
       "      <th>2</th>\n",
       "      <td>38</td>\n",
       "      <td>Private</td>\n",
       "      <td>215646</td>\n",
       "      <td>HS-grad</td>\n",
       "      <td>9</td>\n",
       "      <td>Divorced</td>\n",
       "      <td>Handlers-cleaners</td>\n",
       "      <td>Not-in-family</td>\n",
       "      <td>White</td>\n",
       "      <td>Male</td>\n",
       "      <td>0</td>\n",
       "      <td>0</td>\n",
       "      <td>40</td>\n",
       "      <td>United-States</td>\n",
       "      <td>&lt;=50K</td>\n",
       "    </tr>\n",
       "    <tr>\n",
       "      <th>3</th>\n",
       "      <td>53</td>\n",
       "      <td>Private</td>\n",
       "      <td>234721</td>\n",
       "      <td>11th</td>\n",
       "      <td>7</td>\n",
       "      <td>Married-civ-spouse</td>\n",
       "      <td>Handlers-cleaners</td>\n",
       "      <td>Husband</td>\n",
       "      <td>Black</td>\n",
       "      <td>Male</td>\n",
       "      <td>0</td>\n",
       "      <td>0</td>\n",
       "      <td>40</td>\n",
       "      <td>United-States</td>\n",
       "      <td>&lt;=50K</td>\n",
       "    </tr>\n",
       "    <tr>\n",
       "      <th>4</th>\n",
       "      <td>28</td>\n",
       "      <td>Private</td>\n",
       "      <td>338409</td>\n",
       "      <td>Bachelors</td>\n",
       "      <td>13</td>\n",
       "      <td>Married-civ-spouse</td>\n",
       "      <td>Prof-specialty</td>\n",
       "      <td>Wife</td>\n",
       "      <td>Black</td>\n",
       "      <td>Female</td>\n",
       "      <td>0</td>\n",
       "      <td>0</td>\n",
       "      <td>40</td>\n",
       "      <td>Cuba</td>\n",
       "      <td>&lt;=50K</td>\n",
       "    </tr>\n",
       "  </tbody>\n",
       "</table>\n",
       "</div>"
      ],
      "text/plain": [
       "   age          workclass  fnlwgt   education  education.num  \\\n",
       "0   39          State-gov   77516   Bachelors             13   \n",
       "1   50   Self-emp-not-inc   83311   Bachelors             13   \n",
       "2   38            Private  215646     HS-grad              9   \n",
       "3   53            Private  234721        11th              7   \n",
       "4   28            Private  338409   Bachelors             13   \n",
       "\n",
       "               marital          occupation    relationship    race   gender  \\\n",
       "0        Never-married        Adm-clerical   Not-in-family   White     Male   \n",
       "1   Married-civ-spouse     Exec-managerial         Husband   White     Male   \n",
       "2             Divorced   Handlers-cleaners   Not-in-family   White     Male   \n",
       "3   Married-civ-spouse   Handlers-cleaners         Husband   Black     Male   \n",
       "4   Married-civ-spouse      Prof-specialty            Wife   Black   Female   \n",
       "\n",
       "   capgain  caploss  hours         country  income  \n",
       "0     2174        0     40   United-States   <=50K  \n",
       "1        0        0     13   United-States   <=50K  \n",
       "2        0        0     40   United-States   <=50K  \n",
       "3        0        0     40   United-States   <=50K  \n",
       "4        0        0     40            Cuba   <=50K  "
      ]
     },
     "execution_count": 6,
     "metadata": {},
     "output_type": "execute_result"
    }
   ],
   "source": [
    "df_train.head()"
   ]
  },
  {
   "cell_type": "code",
   "execution_count": 7,
   "metadata": {},
   "outputs": [],
   "source": [
    "df_train = process_adult(df_train)"
   ]
  },
  {
   "cell_type": "code",
   "execution_count": 8,
   "metadata": {},
   "outputs": [
    {
     "data": {
      "text/html": [
       "<div>\n",
       "<style scoped>\n",
       "    .dataframe tbody tr th:only-of-type {\n",
       "        vertical-align: middle;\n",
       "    }\n",
       "\n",
       "    .dataframe tbody tr th {\n",
       "        vertical-align: top;\n",
       "    }\n",
       "\n",
       "    .dataframe thead th {\n",
       "        text-align: right;\n",
       "    }\n",
       "</style>\n",
       "<table border=\"1\" class=\"dataframe\">\n",
       "  <thead>\n",
       "    <tr style=\"text-align: right;\">\n",
       "      <th></th>\n",
       "      <th>age</th>\n",
       "      <th>workclass</th>\n",
       "      <th>education</th>\n",
       "      <th>marital</th>\n",
       "      <th>relationship</th>\n",
       "      <th>race</th>\n",
       "      <th>gender</th>\n",
       "      <th>hours</th>\n",
       "      <th>income</th>\n",
       "    </tr>\n",
       "  </thead>\n",
       "  <tbody>\n",
       "    <tr>\n",
       "      <th>0</th>\n",
       "      <td>0</td>\n",
       "      <td>2</td>\n",
       "      <td>10</td>\n",
       "      <td>0</td>\n",
       "      <td>0</td>\n",
       "      <td>1</td>\n",
       "      <td>1</td>\n",
       "      <td>0</td>\n",
       "      <td>0</td>\n",
       "    </tr>\n",
       "    <tr>\n",
       "      <th>1</th>\n",
       "      <td>1</td>\n",
       "      <td>6</td>\n",
       "      <td>10</td>\n",
       "      <td>2</td>\n",
       "      <td>1</td>\n",
       "      <td>1</td>\n",
       "      <td>1</td>\n",
       "      <td>0</td>\n",
       "      <td>0</td>\n",
       "    </tr>\n",
       "    <tr>\n",
       "      <th>2</th>\n",
       "      <td>0</td>\n",
       "      <td>7</td>\n",
       "      <td>8</td>\n",
       "      <td>1</td>\n",
       "      <td>0</td>\n",
       "      <td>1</td>\n",
       "      <td>1</td>\n",
       "      <td>0</td>\n",
       "      <td>0</td>\n",
       "    </tr>\n",
       "    <tr>\n",
       "      <th>3</th>\n",
       "      <td>1</td>\n",
       "      <td>7</td>\n",
       "      <td>6</td>\n",
       "      <td>2</td>\n",
       "      <td>1</td>\n",
       "      <td>0</td>\n",
       "      <td>1</td>\n",
       "      <td>0</td>\n",
       "      <td>0</td>\n",
       "    </tr>\n",
       "    <tr>\n",
       "      <th>4</th>\n",
       "      <td>0</td>\n",
       "      <td>7</td>\n",
       "      <td>10</td>\n",
       "      <td>2</td>\n",
       "      <td>1</td>\n",
       "      <td>0</td>\n",
       "      <td>0</td>\n",
       "      <td>0</td>\n",
       "      <td>0</td>\n",
       "    </tr>\n",
       "  </tbody>\n",
       "</table>\n",
       "</div>"
      ],
      "text/plain": [
       "   age  workclass  education  marital  relationship  race  gender  hours  \\\n",
       "0    0          2         10        0             0     1       1      0   \n",
       "1    1          6         10        2             1     1       1      0   \n",
       "2    0          7          8        1             0     1       1      0   \n",
       "3    1          7          6        2             1     0       1      0   \n",
       "4    0          7         10        2             1     0       0      0   \n",
       "\n",
       "   income  \n",
       "0       0  \n",
       "1       0  \n",
       "2       0  \n",
       "3       0  \n",
       "4       0  "
      ]
     },
     "execution_count": 8,
     "metadata": {},
     "output_type": "execute_result"
    }
   ],
   "source": [
    "df_train.head()"
   ]
  },
  {
   "cell_type": "code",
   "execution_count": 9,
   "metadata": {},
   "outputs": [
    {
     "name": "stdout",
     "output_type": "stream",
     "text": [
      "[nan ' <=50K.' ' >50K.']\n"
     ]
    }
   ],
   "source": [
    "unique_income_values = df_test['income'].unique()\n",
    "\n",
    "print(unique_income_values)"
   ]
  },
  {
   "cell_type": "code",
   "execution_count": 10,
   "metadata": {},
   "outputs": [
    {
     "data": {
      "text/html": [
       "<div>\n",
       "<style scoped>\n",
       "    .dataframe tbody tr th:only-of-type {\n",
       "        vertical-align: middle;\n",
       "    }\n",
       "\n",
       "    .dataframe tbody tr th {\n",
       "        vertical-align: top;\n",
       "    }\n",
       "\n",
       "    .dataframe thead th {\n",
       "        text-align: right;\n",
       "    }\n",
       "</style>\n",
       "<table border=\"1\" class=\"dataframe\">\n",
       "  <thead>\n",
       "    <tr style=\"text-align: right;\">\n",
       "      <th></th>\n",
       "      <th>age</th>\n",
       "      <th>workclass</th>\n",
       "      <th>fnlwgt</th>\n",
       "      <th>education</th>\n",
       "      <th>education.num</th>\n",
       "      <th>marital</th>\n",
       "      <th>occupation</th>\n",
       "      <th>relationship</th>\n",
       "      <th>race</th>\n",
       "      <th>gender</th>\n",
       "      <th>capgain</th>\n",
       "      <th>caploss</th>\n",
       "      <th>hours</th>\n",
       "      <th>country</th>\n",
       "      <th>income</th>\n",
       "    </tr>\n",
       "  </thead>\n",
       "  <tbody>\n",
       "    <tr>\n",
       "      <th>0</th>\n",
       "      <td>|1x3 Cross validator</td>\n",
       "      <td>NaN</td>\n",
       "      <td>NaN</td>\n",
       "      <td>NaN</td>\n",
       "      <td>NaN</td>\n",
       "      <td>NaN</td>\n",
       "      <td>NaN</td>\n",
       "      <td>NaN</td>\n",
       "      <td>NaN</td>\n",
       "      <td>NaN</td>\n",
       "      <td>NaN</td>\n",
       "      <td>NaN</td>\n",
       "      <td>NaN</td>\n",
       "      <td>NaN</td>\n",
       "      <td>NaN</td>\n",
       "    </tr>\n",
       "    <tr>\n",
       "      <th>1</th>\n",
       "      <td>25</td>\n",
       "      <td>Private</td>\n",
       "      <td>226802.0</td>\n",
       "      <td>11th</td>\n",
       "      <td>7.0</td>\n",
       "      <td>Never-married</td>\n",
       "      <td>Machine-op-inspct</td>\n",
       "      <td>Own-child</td>\n",
       "      <td>Black</td>\n",
       "      <td>Male</td>\n",
       "      <td>0.0</td>\n",
       "      <td>0.0</td>\n",
       "      <td>40.0</td>\n",
       "      <td>United-States</td>\n",
       "      <td>&lt;=50K.</td>\n",
       "    </tr>\n",
       "    <tr>\n",
       "      <th>2</th>\n",
       "      <td>38</td>\n",
       "      <td>Private</td>\n",
       "      <td>89814.0</td>\n",
       "      <td>HS-grad</td>\n",
       "      <td>9.0</td>\n",
       "      <td>Married-civ-spouse</td>\n",
       "      <td>Farming-fishing</td>\n",
       "      <td>Husband</td>\n",
       "      <td>White</td>\n",
       "      <td>Male</td>\n",
       "      <td>0.0</td>\n",
       "      <td>0.0</td>\n",
       "      <td>50.0</td>\n",
       "      <td>United-States</td>\n",
       "      <td>&lt;=50K.</td>\n",
       "    </tr>\n",
       "    <tr>\n",
       "      <th>3</th>\n",
       "      <td>28</td>\n",
       "      <td>Local-gov</td>\n",
       "      <td>336951.0</td>\n",
       "      <td>Assoc-acdm</td>\n",
       "      <td>12.0</td>\n",
       "      <td>Married-civ-spouse</td>\n",
       "      <td>Protective-serv</td>\n",
       "      <td>Husband</td>\n",
       "      <td>White</td>\n",
       "      <td>Male</td>\n",
       "      <td>0.0</td>\n",
       "      <td>0.0</td>\n",
       "      <td>40.0</td>\n",
       "      <td>United-States</td>\n",
       "      <td>&gt;50K.</td>\n",
       "    </tr>\n",
       "    <tr>\n",
       "      <th>4</th>\n",
       "      <td>44</td>\n",
       "      <td>Private</td>\n",
       "      <td>160323.0</td>\n",
       "      <td>Some-college</td>\n",
       "      <td>10.0</td>\n",
       "      <td>Married-civ-spouse</td>\n",
       "      <td>Machine-op-inspct</td>\n",
       "      <td>Husband</td>\n",
       "      <td>Black</td>\n",
       "      <td>Male</td>\n",
       "      <td>7688.0</td>\n",
       "      <td>0.0</td>\n",
       "      <td>40.0</td>\n",
       "      <td>United-States</td>\n",
       "      <td>&gt;50K.</td>\n",
       "    </tr>\n",
       "  </tbody>\n",
       "</table>\n",
       "</div>"
      ],
      "text/plain": [
       "                    age   workclass    fnlwgt      education  education.num  \\\n",
       "0  |1x3 Cross validator         NaN       NaN            NaN            NaN   \n",
       "1                    25     Private  226802.0           11th            7.0   \n",
       "2                    38     Private   89814.0        HS-grad            9.0   \n",
       "3                    28   Local-gov  336951.0     Assoc-acdm           12.0   \n",
       "4                    44     Private  160323.0   Some-college           10.0   \n",
       "\n",
       "               marital          occupation relationship    race gender  \\\n",
       "0                  NaN                 NaN          NaN     NaN    NaN   \n",
       "1        Never-married   Machine-op-inspct    Own-child   Black   Male   \n",
       "2   Married-civ-spouse     Farming-fishing      Husband   White   Male   \n",
       "3   Married-civ-spouse     Protective-serv      Husband   White   Male   \n",
       "4   Married-civ-spouse   Machine-op-inspct      Husband   Black   Male   \n",
       "\n",
       "   capgain  caploss  hours         country   income  \n",
       "0      NaN      NaN    NaN             NaN      NaN  \n",
       "1      0.0      0.0   40.0   United-States   <=50K.  \n",
       "2      0.0      0.0   50.0   United-States   <=50K.  \n",
       "3      0.0      0.0   40.0   United-States    >50K.  \n",
       "4   7688.0      0.0   40.0   United-States    >50K.  "
      ]
     },
     "execution_count": 10,
     "metadata": {},
     "output_type": "execute_result"
    }
   ],
   "source": [
    "df_test.head()"
   ]
  },
  {
   "cell_type": "code",
   "execution_count": 11,
   "metadata": {},
   "outputs": [],
   "source": [
    "def process_adult_test(df):\n",
    "    # replace missing values (?) to nan and then drop the columns\n",
    "    df['country'] = df['country'].replace(' ?',np.nan)\n",
    "    df['workclass'] = df['workclass'].replace(' ?',np.nan)\n",
    "    df['occupation'] = df['occupation'].replace(' ?',np.nan)\n",
    "    # dropping the NaN rows now\n",
    "    df.dropna(how='any',inplace=True)\n",
    "    df['age'] = df['age'].astype(int)\n",
    "    df['income'] = df['income'].map({' <=50K.': 0, ' >50K.': 1}).astype(int)\n",
    "    df['age'] = df['age'].apply(lambda x : 1 if x >= 45 else 0) # 1 if old, 0 if young\n",
    "    df['workclass'] = df['workclass'].map({' Never-worked': 0, ' Without-pay': 1, ' State-gov': 2, ' Local-gov': 3, ' Federal-gov': 4, ' Self-emp-inc': 5, ' Self-emp-not-inc': 6, ' Private': 7}).astype(int)\n",
    "    df['education'] = df['education'].map({' Preschool': 0, ' 1st-4th': 1, ' 5th-6th': 2, ' 7th-8th': 3, ' 9th': 4, ' 10th': 5, ' 11th': 6, ' 12th': 7, ' HS-grad':8, ' Some-college': 9, ' Bachelors': 10, ' Prof-school': 11, ' Assoc-acdm': 12, ' Assoc-voc': 13, ' Masters': 14, ' Doctorate': 15}).astype(int)\n",
    "    df['marital'] = df['marital'].map({' Married-civ-spouse': 2, ' Divorced': 1, ' Never-married': 0, ' Separated': 1, ' Widowed': 1, ' Married-spouse-absent': 2, ' Married-AF-spouse': 2}).astype(int)\n",
    "    df['relationship'] = df['relationship'].map({' Wife': 1 , ' Own-child': 0 , ' Husband': 1, ' Not-in-family': 0, ' Other-relative': 0, ' Unmarried': 0}).astype(int)\n",
    "    df['race'] = df['race'].map({' White': 1, ' Asian-Pac-Islander': 0, ' Amer-Indian-Eskimo': 0, ' Other': 0, ' Black': 0}).astype(int)\n",
    "    df['gender'] = df['gender'].map({' Male': 1, ' Female': 0}).astype(int)\n",
    "    # process hours\n",
    "    df.loc[(df['hours'] <= 40), 'hours'] = 0\n",
    "    df.loc[(df['hours'] > 40), 'hours'] = 1\n",
    "    df = df.drop(columns=['fnlwgt', 'education.num', 'occupation', 'country', 'capgain', 'caploss'])\n",
    "    df = df.reset_index(drop=True)\n",
    "    return df\n"
   ]
  },
  {
   "cell_type": "code",
   "execution_count": 12,
   "metadata": {},
   "outputs": [],
   "source": [
    "df_test = process_adult_test(df_test)"
   ]
  },
  {
   "cell_type": "code",
   "execution_count": 13,
   "metadata": {},
   "outputs": [
    {
     "data": {
      "text/html": [
       "<div>\n",
       "<style scoped>\n",
       "    .dataframe tbody tr th:only-of-type {\n",
       "        vertical-align: middle;\n",
       "    }\n",
       "\n",
       "    .dataframe tbody tr th {\n",
       "        vertical-align: top;\n",
       "    }\n",
       "\n",
       "    .dataframe thead th {\n",
       "        text-align: right;\n",
       "    }\n",
       "</style>\n",
       "<table border=\"1\" class=\"dataframe\">\n",
       "  <thead>\n",
       "    <tr style=\"text-align: right;\">\n",
       "      <th></th>\n",
       "      <th>age</th>\n",
       "      <th>workclass</th>\n",
       "      <th>education</th>\n",
       "      <th>marital</th>\n",
       "      <th>relationship</th>\n",
       "      <th>race</th>\n",
       "      <th>gender</th>\n",
       "      <th>hours</th>\n",
       "      <th>income</th>\n",
       "    </tr>\n",
       "  </thead>\n",
       "  <tbody>\n",
       "    <tr>\n",
       "      <th>0</th>\n",
       "      <td>0</td>\n",
       "      <td>7</td>\n",
       "      <td>6</td>\n",
       "      <td>0</td>\n",
       "      <td>0</td>\n",
       "      <td>0</td>\n",
       "      <td>1</td>\n",
       "      <td>0.0</td>\n",
       "      <td>0</td>\n",
       "    </tr>\n",
       "    <tr>\n",
       "      <th>1</th>\n",
       "      <td>0</td>\n",
       "      <td>7</td>\n",
       "      <td>8</td>\n",
       "      <td>2</td>\n",
       "      <td>1</td>\n",
       "      <td>1</td>\n",
       "      <td>1</td>\n",
       "      <td>1.0</td>\n",
       "      <td>0</td>\n",
       "    </tr>\n",
       "    <tr>\n",
       "      <th>2</th>\n",
       "      <td>0</td>\n",
       "      <td>3</td>\n",
       "      <td>12</td>\n",
       "      <td>2</td>\n",
       "      <td>1</td>\n",
       "      <td>1</td>\n",
       "      <td>1</td>\n",
       "      <td>0.0</td>\n",
       "      <td>1</td>\n",
       "    </tr>\n",
       "    <tr>\n",
       "      <th>3</th>\n",
       "      <td>0</td>\n",
       "      <td>7</td>\n",
       "      <td>9</td>\n",
       "      <td>2</td>\n",
       "      <td>1</td>\n",
       "      <td>0</td>\n",
       "      <td>1</td>\n",
       "      <td>0.0</td>\n",
       "      <td>1</td>\n",
       "    </tr>\n",
       "    <tr>\n",
       "      <th>4</th>\n",
       "      <td>0</td>\n",
       "      <td>7</td>\n",
       "      <td>5</td>\n",
       "      <td>0</td>\n",
       "      <td>0</td>\n",
       "      <td>1</td>\n",
       "      <td>1</td>\n",
       "      <td>0.0</td>\n",
       "      <td>0</td>\n",
       "    </tr>\n",
       "  </tbody>\n",
       "</table>\n",
       "</div>"
      ],
      "text/plain": [
       "   age  workclass  education  marital  relationship  race  gender  hours  \\\n",
       "0    0          7          6        0             0     0       1    0.0   \n",
       "1    0          7          8        2             1     1       1    1.0   \n",
       "2    0          3         12        2             1     1       1    0.0   \n",
       "3    0          7          9        2             1     0       1    0.0   \n",
       "4    0          7          5        0             0     1       1    0.0   \n",
       "\n",
       "   income  \n",
       "0       0  \n",
       "1       0  \n",
       "2       1  \n",
       "3       1  \n",
       "4       0  "
      ]
     },
     "execution_count": 13,
     "metadata": {},
     "output_type": "execute_result"
    }
   ],
   "source": [
    "df_test.head()"
   ]
  },
  {
   "cell_type": "code",
   "execution_count": 14,
   "metadata": {},
   "outputs": [],
   "source": [
    "df_train = df_train.reset_index(drop=True)\n",
    "df_test = df_test.reset_index(drop=True)\n",
    "X_train = df_train.drop(columns='income')\n",
    "y_train = df_train['income']\n",
    "\n",
    "X_test = df_test.drop(columns='income')\n",
    "y_test = df_test['income']"
   ]
  },
  {
   "cell_type": "code",
   "execution_count": 48,
   "metadata": {},
   "outputs": [
    {
     "data": {
      "text/plain": [
       "271458"
      ]
     },
     "execution_count": 48,
     "metadata": {},
     "output_type": "execute_result"
    }
   ],
   "source": [
    "df_train.size"
   ]
  },
  {
   "cell_type": "code",
   "execution_count": 49,
   "metadata": {},
   "outputs": [
    {
     "data": {
      "text/plain": [
       "241296"
      ]
     },
     "execution_count": 49,
     "metadata": {},
     "output_type": "execute_result"
    }
   ],
   "source": [
    "X_train.size"
   ]
  },
  {
   "cell_type": "code",
   "execution_count": 15,
   "metadata": {},
   "outputs": [
    {
     "data": {
      "text/html": [
       "<div>\n",
       "<style scoped>\n",
       "    .dataframe tbody tr th:only-of-type {\n",
       "        vertical-align: middle;\n",
       "    }\n",
       "\n",
       "    .dataframe tbody tr th {\n",
       "        vertical-align: top;\n",
       "    }\n",
       "\n",
       "    .dataframe thead th {\n",
       "        text-align: right;\n",
       "    }\n",
       "</style>\n",
       "<table border=\"1\" class=\"dataframe\">\n",
       "  <thead>\n",
       "    <tr style=\"text-align: right;\">\n",
       "      <th></th>\n",
       "      <th>age</th>\n",
       "      <th>workclass</th>\n",
       "      <th>education</th>\n",
       "      <th>marital</th>\n",
       "      <th>relationship</th>\n",
       "      <th>race</th>\n",
       "      <th>gender</th>\n",
       "      <th>hours</th>\n",
       "    </tr>\n",
       "  </thead>\n",
       "  <tbody>\n",
       "    <tr>\n",
       "      <th>0</th>\n",
       "      <td>0</td>\n",
       "      <td>7</td>\n",
       "      <td>6</td>\n",
       "      <td>0</td>\n",
       "      <td>0</td>\n",
       "      <td>0</td>\n",
       "      <td>1</td>\n",
       "      <td>0.0</td>\n",
       "    </tr>\n",
       "    <tr>\n",
       "      <th>1</th>\n",
       "      <td>0</td>\n",
       "      <td>7</td>\n",
       "      <td>8</td>\n",
       "      <td>2</td>\n",
       "      <td>1</td>\n",
       "      <td>1</td>\n",
       "      <td>1</td>\n",
       "      <td>1.0</td>\n",
       "    </tr>\n",
       "    <tr>\n",
       "      <th>2</th>\n",
       "      <td>0</td>\n",
       "      <td>3</td>\n",
       "      <td>12</td>\n",
       "      <td>2</td>\n",
       "      <td>1</td>\n",
       "      <td>1</td>\n",
       "      <td>1</td>\n",
       "      <td>0.0</td>\n",
       "    </tr>\n",
       "    <tr>\n",
       "      <th>3</th>\n",
       "      <td>0</td>\n",
       "      <td>7</td>\n",
       "      <td>9</td>\n",
       "      <td>2</td>\n",
       "      <td>1</td>\n",
       "      <td>0</td>\n",
       "      <td>1</td>\n",
       "      <td>0.0</td>\n",
       "    </tr>\n",
       "    <tr>\n",
       "      <th>4</th>\n",
       "      <td>0</td>\n",
       "      <td>7</td>\n",
       "      <td>5</td>\n",
       "      <td>0</td>\n",
       "      <td>0</td>\n",
       "      <td>1</td>\n",
       "      <td>1</td>\n",
       "      <td>0.0</td>\n",
       "    </tr>\n",
       "  </tbody>\n",
       "</table>\n",
       "</div>"
      ],
      "text/plain": [
       "   age  workclass  education  marital  relationship  race  gender  hours\n",
       "0    0          7          6        0             0     0       1    0.0\n",
       "1    0          7          8        2             1     1       1    1.0\n",
       "2    0          3         12        2             1     1       1    0.0\n",
       "3    0          7          9        2             1     0       1    0.0\n",
       "4    0          7          5        0             0     1       1    0.0"
      ]
     },
     "execution_count": 15,
     "metadata": {},
     "output_type": "execute_result"
    }
   ],
   "source": [
    "X_test.head()"
   ]
  },
  {
   "cell_type": "code",
   "execution_count": 16,
   "metadata": {},
   "outputs": [
    {
     "data": {
      "text/plain": [
       "0    0\n",
       "1    0\n",
       "2    1\n",
       "3    1\n",
       "4    0\n",
       "Name: income, dtype: int32"
      ]
     },
     "execution_count": 16,
     "metadata": {},
     "output_type": "execute_result"
    }
   ],
   "source": [
    "y_test.head()"
   ]
  },
  {
   "cell_type": "code",
   "execution_count": 17,
   "metadata": {},
   "outputs": [
    {
     "data": {
      "text/html": [
       "<div>\n",
       "<style scoped>\n",
       "    .dataframe tbody tr th:only-of-type {\n",
       "        vertical-align: middle;\n",
       "    }\n",
       "\n",
       "    .dataframe tbody tr th {\n",
       "        vertical-align: top;\n",
       "    }\n",
       "\n",
       "    .dataframe thead th {\n",
       "        text-align: right;\n",
       "    }\n",
       "</style>\n",
       "<table border=\"1\" class=\"dataframe\">\n",
       "  <thead>\n",
       "    <tr style=\"text-align: right;\">\n",
       "      <th></th>\n",
       "      <th>age</th>\n",
       "      <th>workclass</th>\n",
       "      <th>education</th>\n",
       "      <th>marital</th>\n",
       "      <th>relationship</th>\n",
       "      <th>race</th>\n",
       "      <th>gender</th>\n",
       "      <th>hours</th>\n",
       "    </tr>\n",
       "  </thead>\n",
       "  <tbody>\n",
       "    <tr>\n",
       "      <th>0</th>\n",
       "      <td>0</td>\n",
       "      <td>2</td>\n",
       "      <td>10</td>\n",
       "      <td>0</td>\n",
       "      <td>0</td>\n",
       "      <td>1</td>\n",
       "      <td>1</td>\n",
       "      <td>0</td>\n",
       "    </tr>\n",
       "    <tr>\n",
       "      <th>1</th>\n",
       "      <td>1</td>\n",
       "      <td>6</td>\n",
       "      <td>10</td>\n",
       "      <td>2</td>\n",
       "      <td>1</td>\n",
       "      <td>1</td>\n",
       "      <td>1</td>\n",
       "      <td>0</td>\n",
       "    </tr>\n",
       "    <tr>\n",
       "      <th>2</th>\n",
       "      <td>0</td>\n",
       "      <td>7</td>\n",
       "      <td>8</td>\n",
       "      <td>1</td>\n",
       "      <td>0</td>\n",
       "      <td>1</td>\n",
       "      <td>1</td>\n",
       "      <td>0</td>\n",
       "    </tr>\n",
       "    <tr>\n",
       "      <th>3</th>\n",
       "      <td>1</td>\n",
       "      <td>7</td>\n",
       "      <td>6</td>\n",
       "      <td>2</td>\n",
       "      <td>1</td>\n",
       "      <td>0</td>\n",
       "      <td>1</td>\n",
       "      <td>0</td>\n",
       "    </tr>\n",
       "    <tr>\n",
       "      <th>4</th>\n",
       "      <td>0</td>\n",
       "      <td>7</td>\n",
       "      <td>10</td>\n",
       "      <td>2</td>\n",
       "      <td>1</td>\n",
       "      <td>0</td>\n",
       "      <td>0</td>\n",
       "      <td>0</td>\n",
       "    </tr>\n",
       "  </tbody>\n",
       "</table>\n",
       "</div>"
      ],
      "text/plain": [
       "   age  workclass  education  marital  relationship  race  gender  hours\n",
       "0    0          2         10        0             0     1       1      0\n",
       "1    1          6         10        2             1     1       1      0\n",
       "2    0          7          8        1             0     1       1      0\n",
       "3    1          7          6        2             1     0       1      0\n",
       "4    0          7         10        2             1     0       0      0"
      ]
     },
     "execution_count": 17,
     "metadata": {},
     "output_type": "execute_result"
    }
   ],
   "source": [
    "X_train.head()"
   ]
  },
  {
   "cell_type": "code",
   "execution_count": 18,
   "metadata": {},
   "outputs": [
    {
     "data": {
      "text/plain": [
       "0    0\n",
       "1    0\n",
       "2    0\n",
       "3    0\n",
       "4    0\n",
       "Name: income, dtype: int32"
      ]
     },
     "execution_count": 18,
     "metadata": {},
     "output_type": "execute_result"
    }
   ],
   "source": [
    "y_train.head()"
   ]
  },
  {
   "cell_type": "code",
   "execution_count": 19,
   "metadata": {},
   "outputs": [],
   "source": [
    "clf_name = 'LogisticRegression'"
   ]
  },
  {
   "cell_type": "code",
   "execution_count": 20,
   "metadata": {},
   "outputs": [],
   "source": [
    "def demographic_parity(x_train_temp, y_train_temp, x_test_temp):\n",
    "    # find the predictive probabilities for the protected and privileged groups based on 'age'\n",
    "    sc = StandardScaler()\n",
    "    x_test_scalar_temp = sc.fit_transform(x_test_temp)\n",
    "    x_train_scalar_temp = sc.fit_transform(x_train_temp)\n",
    "    # y_train_scalar_temp = sc.fit_transform(y_train_temp)\n",
    "    clf = eval(clf_name)(input_size=x_train_temp.shape[-1])\n",
    "    clf.fit(x_train_scalar_temp, y_train_temp)\n",
    "\n",
    "    y_pred_proba_temp = clf.predict_proba(x_test_scalar_temp)\n",
    "\n",
    "    privileged_gp_indices = x_test_temp[x_test_temp['gender'] == 1].index\n",
    "    protected_gp_indices = x_test_temp[x_test_temp['gender'] == 0].index  # male: 1, female: 0\n",
    "\n",
    "    privileged_positive_pred = 0\n",
    "    for x in range(len(privileged_gp_indices)):\n",
    "        privileged_positive_pred += y_pred_proba_temp[privileged_gp_indices[x]]\n",
    "    privileged_positive_pred /= len(privileged_gp_indices)\n",
    "\n",
    "    protected_positive_pred = 0\n",
    "    for x in range(len(protected_gp_indices)):\n",
    "        protected_positive_pred += y_pred_proba_temp[protected_gp_indices[x]]\n",
    "    protected_positive_pred /= len(protected_gp_indices)\n",
    "\n",
    "    return  protected_positive_pred - privileged_positive_pred"
   ]
  },
  {
   "cell_type": "code",
   "execution_count": 21,
   "metadata": {},
   "outputs": [
    {
     "name": "stdout",
     "output_type": "stream",
     "text": [
      "-0.18778662219152922\n"
     ]
    }
   ],
   "source": [
    "dp_ori = demographic_parity(X_train, y_train, X_test)\n",
    "print(dp_ori)"
   ]
  },
  {
   "cell_type": "code",
   "execution_count": 24,
   "metadata": {},
   "outputs": [],
   "source": [
    "x_train_a = np.copy(X_train)\n",
    "y_train_a = np.copy(y_train)\n",
    "sc = StandardScaler()\n",
    "x_train_a = sc.fit_transform(x_train_a)\n",
    "X_train_copy = np.copy(X_train)\n",
    "X_train_scaler = sc.fit_transform(X_train_copy)\n",
    "\n",
    "result_plot = []\n",
    "result = {}\n",
    "\n",
    "for i in range(len(X_train)):\n",
    "    x_train_new = np.append(x_train_a, [X_train_scaler[i]], axis=0)\n",
    "    y_train_new = np.append(y_train_a, [y_train[i]])\n",
    "    res = dp_ori - demographic_parity(x_train_new, y_train_new, X_test)\n",
    "    result[i] = res\n",
    "    result_plot.append(res)\n",
    "\n",
    "# Sort the dictionary based on the values (res)\n",
    "sorted_result = {k: v for k, v in sorted(result.items(), key=lambda item: item[1])}"
   ]
  },
  {
   "cell_type": "code",
   "execution_count": 83,
   "metadata": {},
   "outputs": [
    {
     "data": {
      "text/plain": [
       "30162"
      ]
     },
     "execution_count": 83,
     "metadata": {},
     "output_type": "execute_result"
    }
   ],
   "source": [
    "len(X_train_scaler)"
   ]
  },
  {
   "cell_type": "code",
   "execution_count": 25,
   "metadata": {},
   "outputs": [],
   "source": [
    "sorted_result = dict(sorted(result.items(), key=lambda item: item[1]))"
   ]
  },
  {
   "cell_type": "code",
   "execution_count": 27,
   "metadata": {},
   "outputs": [
    {
     "name": "stdout",
     "output_type": "stream",
     "text": [
      "Demographic Parity for first 10000 data points: {0: -0.18778662219152922, 10000: -0.008790160450611262}\n",
      "Demographic Parity for first 11000 data points: {0: -0.18778662219152922, 10000: -0.008790160450611262, 11000: -0.014049770924815408}\n",
      "Demographic Parity for first 12000 data points: {0: -0.18778662219152922, 10000: -0.008790160450611262, 11000: -0.014049770924815408, 12000: -0.018643832519049774}\n",
      "Demographic Parity for first 13000 data points: {0: -0.18778662219152922, 10000: -0.008790160450611262, 11000: -0.014049770924815408, 12000: -0.018643832519049774, 13000: -0.022544679241428778}\n",
      "Demographic Parity for first 14000 data points: {0: -0.18778662219152922, 10000: -0.008790160450611262, 11000: -0.014049770924815408, 12000: -0.018643832519049774, 13000: -0.022544679241428778, 14000: -0.02527825597151928}\n",
      "Demographic Parity for first 15000 data points: {0: -0.18778662219152922, 10000: -0.008790160450611262, 11000: -0.014049770924815408, 12000: -0.018643832519049774, 13000: -0.022544679241428778, 14000: -0.02527825597151928, 15000: -0.02728656827143719}\n",
      "Demographic Parity for first 16000 data points: {0: -0.18778662219152922, 10000: -0.008790160450611262, 11000: -0.014049770924815408, 12000: -0.018643832519049774, 13000: -0.022544679241428778, 14000: -0.02527825597151928, 15000: -0.02728656827143719, 16000: -0.02776628819666599}\n",
      "Demographic Parity for first 17000 data points: {0: -0.18778662219152922, 10000: -0.008790160450611262, 11000: -0.014049770924815408, 12000: -0.018643832519049774, 13000: -0.022544679241428778, 14000: -0.02527825597151928, 15000: -0.02728656827143719, 16000: -0.02776628819666599, 17000: -0.02746325581160139}\n",
      "Demographic Parity for first 18000 data points: {0: -0.18778662219152922, 10000: -0.008790160450611262, 11000: -0.014049770924815408, 12000: -0.018643832519049774, 13000: -0.022544679241428778, 14000: -0.02527825597151928, 15000: -0.02728656827143719, 16000: -0.02776628819666599, 17000: -0.02746325581160139, 18000: -0.028071467140060424}\n"
     ]
    }
   ],
   "source": [
    "counts_to_check = [0, 10000, 11000, 12000, 13000, 14000, 15000, 16000, 17000, 18000]\n",
    "\n",
    "x_train_a = np.copy(X_train)\n",
    "y_train_a = np.copy(y_train)\n",
    "\n",
    "current_count = 0\n",
    "dp = {}\n",
    "\n",
    "dp[0] = dp_ori\n",
    "\n",
    "for index, res in sorted_result.items():\n",
    "    # print(index)\n",
    "    x_train_a = np.append(x_train_a, [X_train_scaler[index]], axis=0)\n",
    "    y_train_a = np.append(y_train_a, [y_train[index]])\n",
    "    current_count += 1\n",
    "    if current_count in counts_to_check:\n",
    "        dp[current_count] = demographic_parity(x_train_a, y_train_a, X_test)\n",
    "        print(f\"Demographic Parity for first {current_count} data points: {dp}\")\n",
    "    \n",
    "    if current_count == max(counts_to_check):\n",
    "        break\n"
   ]
  },
  {
   "cell_type": "code",
   "execution_count": 28,
   "metadata": {},
   "outputs": [
    {
     "data": {
      "image/png": "[encoded data removed]",
      "text/plain": [
       "<Figure size 640x480 with 1 Axes>"
      ]
     },
     "metadata": {},
     "output_type": "display_data"
    }
   ],
   "source": [
    "import matplotlib.pyplot as plt\n",
    "\n",
    "counts = list(dp.keys())\n",
    "dp_values = list(dp.values())\n",
    "\n",
    "# Plotting the dp values against the counts\n",
    "plt.plot(counts, dp_values, marker='o')\n",
    "plt.title('Demographic Parity vs Count')\n",
    "plt.xlabel('Data points acquired')\n",
    "plt.ylabel('Demographic Parity')\n",
    "plt.grid(True)\n",
    "plt.show()"
   ]
  },
  {
   "cell_type": "code",
   "execution_count": 56,
   "metadata": {},
   "outputs": [
    {
     "name": "stdout",
     "output_type": "stream",
     "text": [
      "Demographic Parity for first 7000 data points: {7000: 0.0020875045470328812}\n",
      "Demographic Parity for first 7500 data points: {7000: 0.0020875045470328812, 7500: 0.0016946533480826642}\n",
      "Demographic Parity for first 8000 data points: {7000: 0.0020875045470328812, 7500: 0.0016946533480826642, 8000: 0.0005224693275656112}\n",
      "Demographic Parity for first 8500 data points: {7000: 0.0020875045470328812, 7500: 0.0016946533480826642, 8000: 0.0005224693275656112, 8500: -0.001770411891643453}\n",
      "Demographic Parity for first 9000 data points: {7000: 0.0020875045470328812, 7500: 0.0016946533480826642, 8000: 0.0005224693275656112, 8500: -0.001770411891643453, 9000: -0.004592083472304498}\n",
      "Demographic Parity for first 9500 data points: {7000: 0.0020875045470328812, 7500: 0.0016946533480826642, 8000: 0.0005224693275656112, 8500: -0.001770411891643453, 9000: -0.004592083472304498, 9500: -0.00671311293979221}\n",
      "Demographic Parity for first 10000 data points: {7000: 0.0020875045470328812, 7500: 0.0016946533480826642, 8000: 0.0005224693275656112, 8500: -0.001770411891643453, 9000: -0.004592083472304498, 9500: -0.00671311293979221, 10000: -0.008790160450611262}\n",
      "Demographic Parity for first 10500 data points: {7000: 0.0020875045470328812, 7500: 0.0016946533480826642, 8000: 0.0005224693275656112, 8500: -0.001770411891643453, 9000: -0.004592083472304498, 9500: -0.00671311293979221, 10000: -0.008790160450611262, 10500: -0.011237781155998106}\n",
      "Demographic Parity for first 11000 data points: {7000: 0.0020875045470328812, 7500: 0.0016946533480826642, 8000: 0.0005224693275656112, 8500: -0.001770411891643453, 9000: -0.004592083472304498, 9500: -0.00671311293979221, 10000: -0.008790160450611262, 10500: -0.011237781155998106, 11000: -0.014049770924815408}\n",
      "Demographic Parity for first 11500 data points: {7000: 0.0020875045470328812, 7500: 0.0016946533480826642, 8000: 0.0005224693275656112, 8500: -0.001770411891643453, 9000: -0.004592083472304498, 9500: -0.00671311293979221, 10000: -0.008790160450611262, 10500: -0.011237781155998106, 11000: -0.014049770924815408, 11500: -0.016367232700892576}\n"
     ]
    }
   ],
   "source": [
    "counts_to_check = [7000, 7500, 8000, 8500, 9000, 9500, 10000, 10500, 11000, 11500]\n",
    "\n",
    "x_train_a = np.copy(X_train)\n",
    "y_train_a = np.copy(y_train)\n",
    "\n",
    "current_count = 0\n",
    "dp = {}\n",
    "\n",
    "# dp[0] = dp_ori\n",
    "\n",
    "for index, res in sorted_result.items():\n",
    "    # print(index)\n",
    "    x_train_a = np.append(x_train_a, [X_train_scaler[index]], axis=0)\n",
    "    y_train_a = np.append(y_train_a, [y_train[index]])\n",
    "    current_count += 1\n",
    "    if current_count in counts_to_check:\n",
    "        dp[current_count] = demographic_parity(x_train_a, y_train_a, X_test)\n",
    "        print(f\"Demographic Parity for first {current_count} data points: {dp}\")\n",
    "    \n",
    "    if current_count == max(counts_to_check):\n",
    "        break"
   ]
  },
  {
   "cell_type": "code",
   "execution_count": 54,
   "metadata": {},
   "outputs": [
    {
     "data": {
      "text/plain": [
       "241296"
      ]
     },
     "execution_count": 54,
     "metadata": {},
     "output_type": "execute_result"
    }
   ],
   "source": [
    "X_train.size\n"
   ]
  },
  {
   "cell_type": "code",
   "execution_count": 57,
   "metadata": {},
   "outputs": [
    {
     "data": {
      "image/png": "[encoded data removed]",
      "text/plain": [
       "<Figure size 640x480 with 1 Axes>"
      ]
     },
     "metadata": {},
     "output_type": "display_data"
    }
   ],
   "source": [
    "import matplotlib.pyplot as plt\n",
    "\n",
    "counts = list(dp.keys())\n",
    "dp_values = list(dp.values())\n",
    "\n",
    "# Plotting the dp values against the counts\n",
    "plt.plot(counts, dp_values, marker='o')\n",
    "plt.title('Demographic Parity vs Count')\n",
    "plt.xlabel('Data points acquired')\n",
    "plt.ylabel('Demographic Parity')\n",
    "plt.grid(True)\n",
    "plt.show()"
   ]
  },
  {
   "cell_type": "code",
   "execution_count": null,
   "metadata": {},
   "outputs": [],
   "source": [
    "#8100 datapoints can be acquired to decrease the demographic parity"
   ]
  },
  {
   "cell_type": "code",
   "execution_count": 58,
   "metadata": {},
   "outputs": [],
   "source": [
    "clf = eval('LogisticRegression')(input_size=X_train.shape[-1])\n",
    "if isinstance(clf, LogisticRegression):\n",
    "    loss_func = logistic_loss_torch\n"
   ]
  },
  {
   "cell_type": "code",
   "execution_count": 59,
   "metadata": {},
   "outputs": [],
   "source": [
    "from sklearn.preprocessing import StandardScaler\n",
    "sc = StandardScaler()\n",
    "x_test_scaler = sc.fit_transform(X_test)"
   ]
  },
  {
   "cell_type": "code",
   "execution_count": 60,
   "metadata": {},
   "outputs": [],
   "source": [
    "del_F_del_theta = del_spd_del_theta_ad(clf, X_test, x_test_scaler, y_test)"
   ]
  },
  {
   "cell_type": "code",
   "execution_count": 61,
   "metadata": {},
   "outputs": [
    {
     "name": "stderr",
     "output_type": "stream",
     "text": [
      "100%|██████████| 30162/30162 [01:46<00:00, 282.67it/s]\n"
     ]
    }
   ],
   "source": [
    "hessian_all_points = get_hessian_all_points(clf, X_train_scaler, y_train, loss_func)"
   ]
  },
  {
   "cell_type": "code",
   "execution_count": 62,
   "metadata": {},
   "outputs": [
    {
     "name": "stdout",
     "output_type": "stream",
     "text": [
      "<class 'numpy.ndarray'>\n",
      "(30162, 9)\n"
     ]
    }
   ],
   "source": [
    "del_L_del_theta = get_del_L_del_theta(clf, X_train_scaler, y_train, loss_func)\n",
    "print(type(del_L_del_theta))\n",
    "print(del_L_del_theta.shape)"
   ]
  },
  {
   "cell_type": "code",
   "execution_count": 63,
   "metadata": {},
   "outputs": [
    {
     "data": {
      "text/plain": [
       "241296"
      ]
     },
     "execution_count": 63,
     "metadata": {},
     "output_type": "execute_result"
    }
   ],
   "source": [
    "X_train_scaler.size"
   ]
  },
  {
   "cell_type": "code",
   "execution_count": 64,
   "metadata": {},
   "outputs": [],
   "source": [
    "hinv_v, hinv = get_hinv_v(hessian_all_points, del_F_del_theta) "
   ]
  },
  {
   "cell_type": "code",
   "execution_count": 65,
   "metadata": {},
   "outputs": [],
   "source": [
    "hinv_v, hinv = get_hinv_v(hessian_all_points, np.transpose(del_L_del_theta)) "
   ]
  },
  {
   "cell_type": "code",
   "execution_count": 76,
   "metadata": {},
   "outputs": [
    {
     "name": "stdout",
     "output_type": "stream",
     "text": [
      "(30162,)\n"
     ]
    }
   ],
   "source": [
    "#influence for each data point \n",
    "inf = np.matmul(np.transpose(hinv_v), del_F_del_theta)\n",
    "inf = inf / 30162\n",
    "print(inf.shape)"
   ]
  },
  {
   "cell_type": "code",
   "execution_count": 77,
   "metadata": {},
   "outputs": [
    {
     "data": {
      "image/png": "[encoded data removed]",
      "text/plain": [
       "<Figure size 640x480 with 1 Axes>"
      ]
     },
     "metadata": {},
     "output_type": "display_data"
    }
   ],
   "source": [
    "import matplotlib.pyplot as plt\n",
    "fig, ax = plt.subplots()\n",
    "df = pd.DataFrame({'Trained': result_plot, 'Calculated': inf})\n",
    "ax.scatter(df['Trained'], df['Calculated'], marker='o')\n",
    "plt.title('Graph between Trained and Calculated')\n",
    "plt.xlabel('Trained diff in dp for each data point')\n",
    "plt.ylabel('Calculated difference in dp for each data point')\n",
    "plt.grid(True)\n",
    "\n",
    "ax.axline((0, 0), slope=1)\n",
    "plt.show()\n"
   ]
  },
  {
   "cell_type": "code",
   "execution_count": 84,
   "metadata": {},
   "outputs": [],
   "source": [
    "inf_list = {index: value for index, value in enumerate(inf)}"
   ]
  },
  {
   "cell_type": "code",
   "execution_count": 85,
   "metadata": {},
   "outputs": [],
   "source": [
    "# INFLUENCE BASED SORTED DP FOR EACH DATA POINT\n",
    "sorted_result_inf = {k: v for k, v in sorted(inf_list.items(), key=lambda item: item[1])}"
   ]
  },
  {
   "cell_type": "code",
   "execution_count": 94,
   "metadata": {},
   "outputs": [
    {
     "name": "stdout",
     "output_type": "stream",
     "text": [
      "Demographic Parity for first 10000 data points: {0: -0.18778662219152922, 10000: -0.03159159129298539}\n",
      "Demographic Parity for first 11000 data points: {0: -0.18778662219152922, 10000: -0.03159159129298539, 11000: -0.031861147706493786}\n",
      "Demographic Parity for first 12000 data points: {0: -0.18778662219152922, 10000: -0.03159159129298539, 11000: -0.031861147706493786, 12000: -0.03133367882404814}\n",
      "Demographic Parity for first 13000 data points: {0: -0.18778662219152922, 10000: -0.03159159129298539, 11000: -0.031861147706493786, 12000: -0.03133367882404814, 13000: -0.030500726195052397}\n",
      "Demographic Parity for first 14000 data points: {0: -0.18778662219152922, 10000: -0.03159159129298539, 11000: -0.031861147706493786, 12000: -0.03133367882404814, 13000: -0.030500726195052397, 14000: -0.02993540683616161}\n",
      "Demographic Parity for first 15000 data points: {0: -0.18778662219152922, 10000: -0.03159159129298539, 11000: -0.031861147706493786, 12000: -0.03133367882404814, 13000: -0.030500726195052397, 14000: -0.02993540683616161, 15000: -0.028795331868317148}\n",
      "Demographic Parity for first 16000 data points: {0: -0.18778662219152922, 10000: -0.03159159129298539, 11000: -0.031861147706493786, 12000: -0.03133367882404814, 13000: -0.030500726195052397, 14000: -0.02993540683616161, 15000: -0.028795331868317148, 16000: -0.023306518802198528}\n",
      "Demographic Parity for first 17000 data points: {0: -0.18778662219152922, 10000: -0.03159159129298539, 11000: -0.031861147706493786, 12000: -0.03133367882404814, 13000: -0.030500726195052397, 14000: -0.02993540683616161, 15000: -0.028795331868317148, 16000: -0.023306518802198528, 17000: -0.045588920995840554}\n",
      "Demographic Parity for first 18000 data points: {0: -0.18778662219152922, 10000: -0.03159159129298539, 11000: -0.031861147706493786, 12000: -0.03133367882404814, 13000: -0.030500726195052397, 14000: -0.02993540683616161, 15000: -0.028795331868317148, 16000: -0.023306518802198528, 17000: -0.045588920995840554, 18000: -0.06352249683520234}\n"
     ]
    }
   ],
   "source": [
    "counts_to_check = [0, 10000, 11000, 12000, 13000, 14000, 15000, 16000, 17000, 18000]\n",
    "\n",
    "x_train_a = np.copy(X_train)\n",
    "y_train_a = np.copy(y_train)\n",
    "\n",
    "current_count = 0\n",
    "dp_inf = {}\n",
    "\n",
    "dp_inf[0] = dp_ori\n",
    "\n",
    "for index, res in sorted_result_inf.items():\n",
    "    # print(index)\n",
    "    x_train_a = np.append(x_train_a, [X_train_scaler[index]], axis=0)\n",
    "    y_train_a = np.append(y_train_a, [y_train[index]])\n",
    "    current_count += 1\n",
    "    if current_count in counts_to_check:\n",
    "        dp_inf[current_count] = demographic_parity(x_train_a, y_train_a, X_test)\n",
    "        print(f\"Demographic Parity for first {current_count} data points: {dp_inf}\")\n",
    "    \n",
    "    if current_count == max(counts_to_check):\n",
    "        break"
   ]
  },
  {
   "cell_type": "code",
   "execution_count": 95,
   "metadata": {},
   "outputs": [
    {
     "data": {
      "image/png": "[encoded data removed]",
      "text/plain": [
       "<Figure size 640x480 with 1 Axes>"
      ]
     },
     "metadata": {},
     "output_type": "display_data"
    }
   ],
   "source": [
    "import matplotlib.pyplot as plt\n",
    "\n",
    "counts = list(dp_inf.keys())\n",
    "dp_inf_values = list(dp_inf.values())\n",
    "\n",
    "# Plotting the dp values against the counts\n",
    "plt.plot(counts, dp_inf_values, marker='o')\n",
    "plt.title('Demographic Parity vs Count')\n",
    "plt.xlabel('Data points acquired')\n",
    "plt.ylabel('Demographic Parity')\n",
    "plt.grid(True)\n",
    "plt.show()"
   ]
  },
  {
   "cell_type": "code",
   "execution_count": 92,
   "metadata": {},
   "outputs": [
    {
     "name": "stdout",
     "output_type": "stream",
     "text": [
      "Demographic Parity for first 15000 data points: {15000: -0.028795331868317148}\n",
      "Demographic Parity for first 15100 data points: {15000: -0.028795331868317148, 15100: -0.02861942398215231}\n",
      "Demographic Parity for first 15200 data points: {15000: -0.028795331868317148, 15100: -0.02861942398215231, 15200: -0.02752832162434185}\n",
      "Demographic Parity for first 15300 data points: {15000: -0.028795331868317148, 15100: -0.02861942398215231, 15200: -0.02752832162434185, 15300: -0.026325115663703408}\n",
      "Demographic Parity for first 15400 data points: {15000: -0.028795331868317148, 15100: -0.02861942398215231, 15200: -0.02752832162434185, 15300: -0.026325115663703408, 15400: -0.025633199400342505}\n",
      "Demographic Parity for first 15500 data points: {15000: -0.028795331868317148, 15100: -0.02861942398215231, 15200: -0.02752832162434185, 15300: -0.026325115663703408, 15400: -0.025633199400342505, 15500: -0.024246240419561027}\n",
      "Demographic Parity for first 15600 data points: {15000: -0.028795331868317148, 15100: -0.02861942398215231, 15200: -0.02752832162434185, 15300: -0.026325115663703408, 15400: -0.025633199400342505, 15500: -0.024246240419561027, 15600: -0.023169332656912733}\n",
      "Demographic Parity for first 15700 data points: {15000: -0.028795331868317148, 15100: -0.02861942398215231, 15200: -0.02752832162434185, 15300: -0.026325115663703408, 15400: -0.025633199400342505, 15500: -0.024246240419561027, 15600: -0.023169332656912733, 15700: -0.022165226531554616}\n",
      "Demographic Parity for first 15800 data points: {15000: -0.028795331868317148, 15100: -0.02861942398215231, 15200: -0.02752832162434185, 15300: -0.026325115663703408, 15400: -0.025633199400342505, 15500: -0.024246240419561027, 15600: -0.023169332656912733, 15700: -0.022165226531554616, 15800: -0.02190060157816548}\n",
      "Demographic Parity for first 15900 data points: {15000: -0.028795331868317148, 15100: -0.02861942398215231, 15200: -0.02752832162434185, 15300: -0.026325115663703408, 15400: -0.025633199400342505, 15500: -0.024246240419561027, 15600: -0.023169332656912733, 15700: -0.022165226531554616, 15800: -0.02190060157816548, 15900: -0.022238026599904703}\n",
      "Demographic Parity for first 16000 data points: {15000: -0.028795331868317148, 15100: -0.02861942398215231, 15200: -0.02752832162434185, 15300: -0.026325115663703408, 15400: -0.025633199400342505, 15500: -0.024246240419561027, 15600: -0.023169332656912733, 15700: -0.022165226531554616, 15800: -0.02190060157816548, 15900: -0.022238026599904703, 16000: -0.023306518802198528}\n",
      "Demographic Parity for first 16100 data points: {15000: -0.028795331868317148, 15100: -0.02861942398215231, 15200: -0.02752832162434185, 15300: -0.026325115663703408, 15400: -0.025633199400342505, 15500: -0.024246240419561027, 15600: -0.023169332656912733, 15700: -0.022165226531554616, 15800: -0.02190060157816548, 15900: -0.022238026599904703, 16000: -0.023306518802198528, 16100: -0.025670338143996052}\n",
      "Demographic Parity for first 16200 data points: {15000: -0.028795331868317148, 15100: -0.02861942398215231, 15200: -0.02752832162434185, 15300: -0.026325115663703408, 15400: -0.025633199400342505, 15500: -0.024246240419561027, 15600: -0.023169332656912733, 15700: -0.022165226531554616, 15800: -0.02190060157816548, 15900: -0.022238026599904703, 16000: -0.023306518802198528, 16100: -0.025670338143996052, 16200: -0.02775904127482759}\n",
      "Demographic Parity for first 16300 data points: {15000: -0.028795331868317148, 15100: -0.02861942398215231, 15200: -0.02752832162434185, 15300: -0.026325115663703408, 15400: -0.025633199400342505, 15500: -0.024246240419561027, 15600: -0.023169332656912733, 15700: -0.022165226531554616, 15800: -0.02190060157816548, 15900: -0.022238026599904703, 16000: -0.023306518802198528, 16100: -0.025670338143996052, 16200: -0.02775904127482759, 16300: -0.030460770706585538}\n",
      "Demographic Parity for first 16400 data points: {15000: -0.028795331868317148, 15100: -0.02861942398215231, 15200: -0.02752832162434185, 15300: -0.026325115663703408, 15400: -0.025633199400342505, 15500: -0.024246240419561027, 15600: -0.023169332656912733, 15700: -0.022165226531554616, 15800: -0.02190060157816548, 15900: -0.022238026599904703, 16000: -0.023306518802198528, 16100: -0.025670338143996052, 16200: -0.02775904127482759, 16300: -0.030460770706585538, 16400: -0.03306501691187852}\n",
      "Demographic Parity for first 16500 data points: {15000: -0.028795331868317148, 15100: -0.02861942398215231, 15200: -0.02752832162434185, 15300: -0.026325115663703408, 15400: -0.025633199400342505, 15500: -0.024246240419561027, 15600: -0.023169332656912733, 15700: -0.022165226531554616, 15800: -0.02190060157816548, 15900: -0.022238026599904703, 16000: -0.023306518802198528, 16100: -0.025670338143996052, 16200: -0.02775904127482759, 16300: -0.030460770706585538, 16400: -0.03306501691187852, 16500: -0.03518701548412623}\n"
     ]
    }
   ],
   "source": [
    "counts_to_check = [15000, 15100, 15200, 15300, 15400, 15500, 15600, 15700, 15800, 15900, 16000, 16100, 16200, 16300, 16400, 16500]\n",
    "\n",
    "x_train_a = np.copy(X_train)\n",
    "y_train_a = np.copy(y_train)\n",
    "\n",
    "current_count = 0\n",
    "dp_inf = {}\n",
    "\n",
    "# dp_inf[0] = -0.07884407\n",
    "\n",
    "for index, res in sorted_result_inf.items():\n",
    "    # print(index)\n",
    "    x_train_a = np.append(x_train_a, [X_train_scaler[index]], axis=0)\n",
    "    y_train_a = np.append(y_train_a, [y_train[index]])\n",
    "    current_count += 1\n",
    "    if current_count in counts_to_check:\n",
    "        dp_inf[current_count] = demographic_parity(x_train_a, y_train_a, X_test)\n",
    "        print(f\"Demographic Parity for first {current_count} data points: {dp_inf}\")\n",
    "    \n",
    "    if current_count == max(counts_to_check):\n",
    "        break"
   ]
  },
  {
   "cell_type": "code",
   "execution_count": 93,
   "metadata": {},
   "outputs": [
    {
     "data": {
      "image/png": "[encoded data removed]",
      "text/plain": [
       "<Figure size 640x480 with 1 Axes>"
      ]
     },
     "metadata": {},
     "output_type": "display_data"
    }
   ],
   "source": [
    "import matplotlib.pyplot as plt\n",
    "\n",
    "counts = list(dp_inf.keys())\n",
    "dp_inf_values = list(dp_inf.values())\n",
    "\n",
    "# Plotting the dp values against the counts\n",
    "plt.plot(counts, dp_inf_values, marker='o')\n",
    "plt.title('Demographic Parity vs Count')\n",
    "plt.xlabel('Data points acquired')\n",
    "plt.ylabel('Demographic Parity')\n",
    "plt.grid(True)\n",
    "plt.show()"
   ]
  },
  {
   "cell_type": "code",
   "execution_count": null,
   "metadata": {},
   "outputs": [],
   "source": [
    "#15800 data points"
   ]
  }
 ],
 "metadata": {
  "kernelspec": {
   "display_name": "influenceGopher",
   "language": "python",
   "name": "python3"
  },
  "language_info": {
   "codemirror_mode": {
    "name": "ipython",
    "version": 3
   },
   "file_extension": ".py",
   "mimetype": "text/x-python",
   "name": "python",
   "nbconvert_exporter": "python",
   "pygments_lexer": "ipython3",
   "version": "3.8.18"
  }
 },
 "nbformat": 4,
 "nbformat_minor": 2
}
