{
 "cells": [
  {
   "cell_type": "code",
   "execution_count": 82,
   "metadata": {},
   "outputs": [],
   "source": [
    "import pandas as pd \n",
    "from sklearn.model_selection import train_test_split\n",
    "from sklearn.linear_model import LogisticRegression\n",
    "from sklearn.neighbors import KNeighborsClassifier\n",
    "from sklearn.metrics import accuracy_score, classification_report\n",
    "from sklearn.preprocessing import LabelEncoder\n",
    "from sklearn.preprocessing import StandardScaler\n",
    "import numpy as np\n",
    "from hessians_calc import *\n",
    "from demo_parity_calc import *"
   ]
  },
  {
   "cell_type": "code",
   "execution_count": 83,
   "metadata": {},
   "outputs": [],
   "source": [
    "df = pd.read_csv('compas-scores-two-years.csv')"
   ]
  },
  {
   "cell_type": "code",
   "execution_count": 84,
   "metadata": {},
   "outputs": [],
   "source": [
    "df = df[['event', 'is_violent_recid', 'is_recid', 'priors_count', 'juv_other_count','juv_misd_count', 'juv_fel_count', 'race', 'age_cat', 'sex','score_text']]"
   ]
  },
  {
   "cell_type": "code",
   "execution_count": 85,
   "metadata": {},
   "outputs": [],
   "source": [
    "def preprocess_compas(df):\n",
    "    df['age_cat'] = df['age_cat'].map({'Less than 25': 0, '25 - 45': 1, 'Greater than 45': 2}).astype(int)    \n",
    "    df['score_text'] = df['score_text'].map({'Low': 0, 'Medium': 1, 'High': 2}).astype(int)    \n",
    "    df['race'] = df['race'].map({'Other': 0, 'African-American': 0, 'Hispanic': 0, 'Native American': 0, 'Asian': 0, 'Caucasian': 1}).astype(int)\n",
    "    df['sex'] = df['sex'].map({'Male': 1, 'Female': 0}).astype(int)    \n",
    "    \n",
    "    df.loc[(df['priors_count'] <= 5), 'priors_count'] = 0\n",
    "    df.loc[(df['priors_count'] > 5) & (df['priors_count'] <= 15), 'priors_count'] = 1\n",
    "    df.loc[(df['priors_count'] > 15), 'priors_count'] = 2\n",
    "    \n",
    "    df.loc[(df['juv_fel_count'] == 0), 'juv_fel_count'] = 0\n",
    "    df.loc[(df['juv_fel_count'] == 1), 'juv_fel_count'] = 1\n",
    "    df.loc[(df['juv_fel_count'] > 1), 'juv_fel_count'] = 2\n",
    "    \n",
    "    df.loc[(df['juv_misd_count'] == 0), 'juv_misd_count'] = 0\n",
    "    df.loc[(df['juv_misd_count'] == 1), 'juv_misd_count'] = 1\n",
    "    df.loc[(df['juv_misd_count'] > 1), 'juv_misd_count'] = 2\n",
    "    \n",
    "    df.loc[(df['juv_other_count'] == 0), 'juv_other_count'] = 0\n",
    "    df.loc[(df['juv_other_count'] == 1), 'juv_other_count'] = 1\n",
    "    df.loc[(df['juv_other_count'] > 1), 'juv_other_count'] = 2\n",
    "    return df"
   ]
  },
  {
   "cell_type": "code",
   "execution_count": 86,
   "metadata": {},
   "outputs": [],
   "source": [
    "df = preprocess_compas(df)"
   ]
  },
  {
   "cell_type": "code",
   "execution_count": 87,
   "metadata": {},
   "outputs": [],
   "source": [
    "y = df['is_recid']"
   ]
  },
  {
   "cell_type": "code",
   "execution_count": 88,
   "metadata": {},
   "outputs": [],
   "source": [
    "df = df.drop(columns=['is_recid', 'is_violent_recid'])"
   ]
  },
  {
   "cell_type": "code",
   "execution_count": 89,
   "metadata": {},
   "outputs": [],
   "source": [
    "X_train, X_test, y_train, y_test = train_test_split(df, y, test_size=0.2, random_state=1)\n",
    "X_train = X_train.reset_index(drop=True)\n",
    "X_test = X_test.reset_index(drop=True)\n",
    "y_train = y_train.reset_index(drop=True)\n",
    "y_test = y_test.reset_index(drop=True)"
   ]
  },
  {
   "cell_type": "code",
   "execution_count": 90,
   "metadata": {},
   "outputs": [],
   "source": [
    "from sklearn.preprocessing import StandardScaler\n",
    "sc = StandardScaler()\n",
    "X_train = sc.fit_transform(X_train)\n",
    "X_test_sc = sc.transform(X_test)\n",
    "\n",
    "clf = LogisticRegression(input_size=X_train.shape[-1])\n",
    "\n",
    "clf.fit(X_train, y_train)\n",
    "\n",
    "y_pred_test = clf.predict_proba(X_test_sc)\n",
    "y_pred_train = clf.predict_proba(X_train)"
   ]
  },
  {
   "cell_type": "code",
   "execution_count": 91,
   "metadata": {},
   "outputs": [],
   "source": [
    "def demographic_parity(x_test_temp, y_pred_proba_temp):\n",
    "    # find the predictive probabilities for the protected and privileged groups based on 'age'\n",
    "    # sc = StandardScaler()\n",
    "    # x_test_scalar_temp = sc.fit_transform(x_test_temp)\n",
    "    # x_train_scalar_temp = sc.fit_transform(x_train_temp)\n",
    "    # y_train_scalar_temp = sc.fit_transform(y_train_temp)\n",
    "    # clfl = eval(clf_name)(input_size=x_train_temp.shape[-1])\n",
    "    # clfl.fit(x_train_scalar_temp, y_train_scalar_temp)\n",
    "\n",
    "    # y_pred_proba_temp = clfl.predict_proba(x_test_scalar_temp)\n",
    "\n",
    "    privileged_gp_indices = x_test_temp[x_test_temp['race'] == 1].index\n",
    "    protected_gp_indices = x_test_temp[x_test_temp['race'] == 0].index  # male: 1, female: 0\n",
    "\n",
    "    privileged_positive_pred = 0\n",
    "    for x in range(len(privileged_gp_indices)):\n",
    "        privileged_positive_pred += y_pred_proba_temp[privileged_gp_indices[x]]\n",
    "    privileged_positive_pred /= len(privileged_gp_indices)\n",
    "\n",
    "    protected_positive_pred = 0\n",
    "    for x in range(len(protected_gp_indices)):\n",
    "        protected_positive_pred += y_pred_proba_temp[protected_gp_indices[x]]\n",
    "    protected_positive_pred /= len(protected_gp_indices)\n",
    "\n",
    "    return  protected_positive_pred - privileged_positive_pred"
   ]
  },
  {
   "cell_type": "code",
   "execution_count": 92,
   "metadata": {},
   "outputs": [
    {
     "name": "stdout",
     "output_type": "stream",
     "text": [
      "0.10664560881682311\n"
     ]
    }
   ],
   "source": [
    "print(demographic_parity(X_test, y_pred_test))"
   ]
  }
 ],
 "metadata": {
  "kernelspec": {
   "display_name": "influenceGopher",
   "language": "python",
   "name": "python3"
  },
  "language_info": {
   "codemirror_mode": {
    "name": "ipython",
    "version": 3
   },
   "file_extension": ".py",
   "mimetype": "text/x-python",
   "name": "python",
   "nbconvert_exporter": "python",
   "pygments_lexer": "ipython3",
   "version": "3.8.18"
  }
 },
 "nbformat": 4,
 "nbformat_minor": 2
}
